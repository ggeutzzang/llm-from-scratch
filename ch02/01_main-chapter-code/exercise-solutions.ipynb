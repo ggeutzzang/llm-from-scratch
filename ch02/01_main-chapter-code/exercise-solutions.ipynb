{
  "cells": [
    {
      "cell_type": "markdown",
      "metadata": {
        "id": "view-in-github",
        "colab_type": "text"
      },
      "source": [
        "<a href=\"https://colab.research.google.com/github/rickiepark/llm-from-scratch/blob/main/ch02/01_main-chapter-code/exercise-solutions.ipynb\" target=\"_parent\"><img src=\"https://colab.research.google.com/assets/colab-badge.svg\" alt=\"Open In Colab\"/></a>"
      ]
    },
    {
      "cell_type": "markdown",
      "id": "99311e42-8467-458d-b918-632c8840b96f",
      "metadata": {
        "id": "99311e42-8467-458d-b918-632c8840b96f"
      },
      "source": [
        "<table style=\"width:100%\">\n",
        "<tr>\n",
        "<td style=\"vertical-align:middle; text-align:left;\">\n",
        "<font size=\"2\">\n",
        "세바스찬 라시카(Sebastian Raschka)가 쓴 <a href=\"http://mng.bz/orYv\">Build a Large Language Model From Scratch</a>의 번역서 예제 코드입니다.<br>\n",
        "<br>코드 저장소: <a href=\"https://github.com/rickiepark/llm-from-scratch\">https://github.com/rickiepark/llm-from-scratch</a>\n",
        "</font>\n",
        "</td>\n",
        "<td style=\"vertical-align:middle; text-align:left;\">\n",
        "<a href=\"http://mng.bz/orYv\"><img src=\"https://sebastianraschka.com/images/LLMs-from-scratch-images/cover-small.webp\" width=\"100px\"></a>\n",
        "</td>\n",
        "</tr>\n",
        "</table>\n"
      ]
    },
    {
      "cell_type": "markdown",
      "id": "ab88d307-61ba-45ef-89bc-e3569443dfca",
      "metadata": {
        "id": "ab88d307-61ba-45ef-89bc-e3569443dfca"
      },
      "source": [
        "# 2장 연습문제 해답"
      ]
    },
    {
      "cell_type": "markdown",
      "id": "2ed9978c-6d8e-401b-9731-bec3802cbb96",
      "metadata": {
        "id": "2ed9978c-6d8e-401b-9731-bec3802cbb96"
      },
      "source": [
        "이 노트북에 필요한 패키지:"
      ]
    },
    {
      "cell_type": "code",
      "source": [
        "!pip install tiktoken"
      ],
      "metadata": {
        "id": "6_5ML-vkDZyG",
        "outputId": "20416447-60ee-49ff-cbb7-9262bce25b60",
        "colab": {
          "base_uri": "https://localhost:8080/"
        }
      },
      "id": "6_5ML-vkDZyG",
      "execution_count": 1,
      "outputs": [
        {
          "output_type": "stream",
          "name": "stdout",
          "text": [
            "Requirement already satisfied: tiktoken in /usr/local/lib/python3.11/dist-packages (0.9.0)\n",
            "Requirement already satisfied: regex>=2022.1.18 in /usr/local/lib/python3.11/dist-packages (from tiktoken) (2024.11.6)\n",
            "Requirement already satisfied: requests>=2.26.0 in /usr/local/lib/python3.11/dist-packages (from tiktoken) (2.32.3)\n",
            "Requirement already satisfied: charset-normalizer<4,>=2 in /usr/local/lib/python3.11/dist-packages (from requests>=2.26.0->tiktoken) (3.4.1)\n",
            "Requirement already satisfied: idna<4,>=2.5 in /usr/local/lib/python3.11/dist-packages (from requests>=2.26.0->tiktoken) (3.10)\n",
            "Requirement already satisfied: urllib3<3,>=1.21.1 in /usr/local/lib/python3.11/dist-packages (from requests>=2.26.0->tiktoken) (2.3.0)\n",
            "Requirement already satisfied: certifi>=2017.4.17 in /usr/local/lib/python3.11/dist-packages (from requests>=2.26.0->tiktoken) (2025.1.31)\n"
          ]
        }
      ]
    },
    {
      "cell_type": "code",
      "execution_count": 2,
      "id": "78b55ed6-3312-4e30-89b8-51dc8a4a908f",
      "metadata": {
        "id": "78b55ed6-3312-4e30-89b8-51dc8a4a908f",
        "outputId": "4fbc3257-71ae-4b31-a1fe-fce70199313d",
        "colab": {
          "base_uri": "https://localhost:8080/"
        }
      },
      "outputs": [
        {
          "output_type": "stream",
          "name": "stdout",
          "text": [
            "파이토치 버전: 2.6.0+cu124\n",
            "tiktoken 버전: 0.9.0\n"
          ]
        }
      ],
      "source": [
        "from importlib.metadata import version\n",
        "\n",
        "print(\"파이토치 버전:\", version(\"torch\"))\n",
        "print(\"tiktoken 버전:\", version(\"tiktoken\"))"
      ]
    },
    {
      "cell_type": "markdown",
      "id": "6f678e62-7bcb-4405-86ae-dce94f494303",
      "metadata": {
        "id": "6f678e62-7bcb-4405-86ae-dce94f494303"
      },
      "source": [
        "# 연습문제 2.1"
      ]
    },
    {
      "cell_type": "code",
      "execution_count": 3,
      "id": "7614337f-f639-42c9-a99b-d33f74fa8a03",
      "metadata": {
        "id": "7614337f-f639-42c9-a99b-d33f74fa8a03"
      },
      "outputs": [],
      "source": [
        "import tiktoken\n",
        "\n",
        "tokenizer = tiktoken.get_encoding(\"gpt2\")"
      ]
    },
    {
      "cell_type": "code",
      "execution_count": 4,
      "id": "4f235d87-be85-4ddf-95a6-af59fca13d82",
      "metadata": {
        "id": "4f235d87-be85-4ddf-95a6-af59fca13d82",
        "outputId": "21008117-92fd-441a-c136-2aad2c355371",
        "colab": {
          "base_uri": "https://localhost:8080/"
        }
      },
      "outputs": [
        {
          "output_type": "stream",
          "name": "stdout",
          "text": [
            "[33901, 86, 343, 86, 220, 959]\n"
          ]
        }
      ],
      "source": [
        "integers = tokenizer.encode(\"Akwirw ier\")\n",
        "print(integers)"
      ]
    },
    {
      "cell_type": "code",
      "execution_count": 5,
      "id": "45e4e8f0-3272-48bb-96f6-cced5584ceea",
      "metadata": {
        "id": "45e4e8f0-3272-48bb-96f6-cced5584ceea",
        "outputId": "ad17ac15-3a7b-4554-ab6f-5b45f6d53d8d",
        "colab": {
          "base_uri": "https://localhost:8080/"
        }
      },
      "outputs": [
        {
          "output_type": "stream",
          "name": "stdout",
          "text": [
            "33901 -> Ak\n",
            "86 -> w\n",
            "343 -> ir\n",
            "86 -> w\n",
            "220 ->  \n",
            "959 -> ier\n"
          ]
        }
      ],
      "source": [
        "for i in integers:\n",
        "    print(f\"{i} -> {tokenizer.decode([i])}\")"
      ]
    },
    {
      "cell_type": "code",
      "execution_count": 6,
      "id": "664397bc-6daa-4b88-90aa-e8fc1fbd5846",
      "metadata": {
        "id": "664397bc-6daa-4b88-90aa-e8fc1fbd5846",
        "outputId": "578589af-c077-4cc9-f0cb-1868a8ffb5b6",
        "colab": {
          "base_uri": "https://localhost:8080/"
        }
      },
      "outputs": [
        {
          "output_type": "execute_result",
          "data": {
            "text/plain": [
              "[33901]"
            ]
          },
          "metadata": {},
          "execution_count": 6
        }
      ],
      "source": [
        "tokenizer.encode(\"Ak\")"
      ]
    },
    {
      "cell_type": "code",
      "execution_count": 7,
      "id": "d3664332-e6bb-447e-8b96-203aafde8b24",
      "metadata": {
        "id": "d3664332-e6bb-447e-8b96-203aafde8b24",
        "outputId": "259e7af6-c6b1-4160-b992-dc6437770cd3",
        "colab": {
          "base_uri": "https://localhost:8080/"
        }
      },
      "outputs": [
        {
          "output_type": "execute_result",
          "data": {
            "text/plain": [
              "[86]"
            ]
          },
          "metadata": {},
          "execution_count": 7
        }
      ],
      "source": [
        "tokenizer.encode(\"w\")"
      ]
    },
    {
      "cell_type": "code",
      "execution_count": 8,
      "id": "2773c09d-c136-4372-a2be-04b58d292842",
      "metadata": {
        "id": "2773c09d-c136-4372-a2be-04b58d292842",
        "outputId": "69dc47fe-a69d-4e67-86e8-6c5fea1c6fd2",
        "colab": {
          "base_uri": "https://localhost:8080/"
        }
      },
      "outputs": [
        {
          "output_type": "execute_result",
          "data": {
            "text/plain": [
              "[343]"
            ]
          },
          "metadata": {},
          "execution_count": 8
        }
      ],
      "source": [
        "tokenizer.encode(\"ir\")"
      ]
    },
    {
      "cell_type": "code",
      "execution_count": 9,
      "id": "8a6abd32-1e0a-4038-9dd2-673f47bcdeb5",
      "metadata": {
        "id": "8a6abd32-1e0a-4038-9dd2-673f47bcdeb5",
        "outputId": "d7fc1dec-10ef-4724-b0a4-23a5d5fa6faf",
        "colab": {
          "base_uri": "https://localhost:8080/"
        }
      },
      "outputs": [
        {
          "output_type": "execute_result",
          "data": {
            "text/plain": [
              "[86]"
            ]
          },
          "metadata": {},
          "execution_count": 9
        }
      ],
      "source": [
        "tokenizer.encode(\"w\")"
      ]
    },
    {
      "cell_type": "code",
      "execution_count": 10,
      "id": "26ae940a-9841-4e27-a1df-b83fc8a488b3",
      "metadata": {
        "id": "26ae940a-9841-4e27-a1df-b83fc8a488b3",
        "outputId": "4ca98b07-4e24-43a9-837f-a9c7d9d841cb",
        "colab": {
          "base_uri": "https://localhost:8080/"
        }
      },
      "outputs": [
        {
          "output_type": "execute_result",
          "data": {
            "text/plain": [
              "[220]"
            ]
          },
          "metadata": {},
          "execution_count": 10
        }
      ],
      "source": [
        "tokenizer.encode(\" \")"
      ]
    },
    {
      "cell_type": "code",
      "execution_count": 11,
      "id": "a606c39a-6747-4cd8-bb38-e3183f80908d",
      "metadata": {
        "id": "a606c39a-6747-4cd8-bb38-e3183f80908d",
        "outputId": "e2022953-4a3a-4b2e-dfc5-b13d4cd71e4e",
        "colab": {
          "base_uri": "https://localhost:8080/"
        }
      },
      "outputs": [
        {
          "output_type": "execute_result",
          "data": {
            "text/plain": [
              "[959]"
            ]
          },
          "metadata": {},
          "execution_count": 11
        }
      ],
      "source": [
        "tokenizer.encode(\"ier\")"
      ]
    },
    {
      "cell_type": "code",
      "execution_count": 12,
      "id": "47c7268d-8fdc-4957-bc68-5be6113f45a7",
      "metadata": {
        "id": "47c7268d-8fdc-4957-bc68-5be6113f45a7",
        "outputId": "721824cc-4ce5-4240-d3d9-e1d977c1e28e",
        "colab": {
          "base_uri": "https://localhost:8080/",
          "height": 36
        }
      },
      "outputs": [
        {
          "output_type": "execute_result",
          "data": {
            "text/plain": [
              "'Akwirw ier'"
            ],
            "application/vnd.google.colaboratory.intrinsic+json": {
              "type": "string"
            }
          },
          "metadata": {},
          "execution_count": 12
        }
      ],
      "source": [
        "tokenizer.decode([33901, 86, 343, 86, 220, 959])"
      ]
    },
    {
      "cell_type": "markdown",
      "id": "29e5034a-95ed-46d8-9972-589354dc9fd4",
      "metadata": {
        "id": "29e5034a-95ed-46d8-9972-589354dc9fd4"
      },
      "source": [
        "# 연습문제 2.2"
      ]
    },
    {
      "cell_type": "code",
      "source": [
        "import os\n",
        "import urllib.request\n",
        "\n",
        "if not os.path.exists(\"the-verdict.txt\"):\n",
        "    url = (\"https://raw.githubusercontent.com/rasbt/\"\n",
        "           \"LLMs-from-scratch/main/ch02/01_main-chapter-code/\"\n",
        "           \"the-verdict.txt\")\n",
        "    file_path = \"the-verdict.txt\"\n",
        "    urllib.request.urlretrieve(url, file_path)"
      ],
      "metadata": {
        "id": "rjk_x-uyEC2V"
      },
      "id": "rjk_x-uyEC2V",
      "execution_count": 13,
      "outputs": []
    },
    {
      "cell_type": "code",
      "execution_count": 14,
      "id": "4d50af16-937b-49e0-8ffd-42d30cbb41c9",
      "metadata": {
        "id": "4d50af16-937b-49e0-8ffd-42d30cbb41c9"
      },
      "outputs": [],
      "source": [
        "import tiktoken\n",
        "import torch\n",
        "from torch.utils.data import Dataset, DataLoader\n",
        "\n",
        "\n",
        "class GPTDatasetV1(Dataset):\n",
        "    def __init__(self, txt, tokenizer, max_length, stride):\n",
        "        self.input_ids = []\n",
        "        self.target_ids = []\n",
        "\n",
        "        # 전체 텍스트를 토큰화합니다.\n",
        "        token_ids = tokenizer.encode(txt, allowed_special={\"<|endoftext|>\"})\n",
        "\n",
        "        # 슬라이딩 윈도를 사용해 책을 max_length 길이의 중첩된 시퀀스로 나눕니다.\n",
        "        for i in range(0, len(token_ids) - max_length, stride):\n",
        "            input_chunk = token_ids[i:i + max_length]\n",
        "            target_chunk = token_ids[i + 1: i + max_length + 1]\n",
        "            self.input_ids.append(torch.tensor(input_chunk))\n",
        "            self.target_ids.append(torch.tensor(target_chunk))\n",
        "\n",
        "    def __len__(self):\n",
        "        return len(self.input_ids)\n",
        "\n",
        "    def __getitem__(self, idx):\n",
        "        return self.input_ids[idx], self.target_ids[idx]\n",
        "\n",
        "\n",
        "def create_dataloader(txt, batch_size=4, max_length=256, stride=128):\n",
        "    # 토크나이저를 초기화합니다.\n",
        "    tokenizer = tiktoken.get_encoding(\"gpt2\")\n",
        "\n",
        "    # 데이터셋을 만듭니다.\n",
        "    dataset = GPTDatasetV1(txt, tokenizer, max_length, stride)\n",
        "\n",
        "    # 데이터 로더를 만듭니다.\n",
        "    dataloader = DataLoader(dataset, batch_size=batch_size)\n",
        "\n",
        "    return dataloader\n",
        "\n",
        "\n",
        "with open(\"the-verdict.txt\", \"r\", encoding=\"utf-8\") as f:\n",
        "    raw_text = f.read()\n",
        "\n",
        "tokenizer = tiktoken.get_encoding(\"gpt2\")\n",
        "encoded_text = tokenizer.encode(raw_text)\n",
        "\n",
        "vocab_size = 50257\n",
        "output_dim = 256\n",
        "max_len = 4\n",
        "context_length = max_len\n",
        "\n",
        "token_embedding_layer = torch.nn.Embedding(context_length, output_dim)\n",
        "pos_embedding_layer = torch.nn.Embedding(vocab_size, output_dim)"
      ]
    },
    {
      "cell_type": "code",
      "execution_count": 15,
      "id": "0128eefa-d7c8-4f76-9851-566dfa7c3745",
      "metadata": {
        "id": "0128eefa-d7c8-4f76-9851-566dfa7c3745",
        "outputId": "ef7cc4f3-36cc-4994-dbbc-b120f36afa02",
        "colab": {
          "base_uri": "https://localhost:8080/"
        }
      },
      "outputs": [
        {
          "output_type": "execute_result",
          "data": {
            "text/plain": [
              "tensor([[  40,  367],\n",
              "        [2885, 1464],\n",
              "        [1807, 3619],\n",
              "        [ 402,  271]])"
            ]
          },
          "metadata": {},
          "execution_count": 15
        }
      ],
      "source": [
        "dataloader = create_dataloader(raw_text, batch_size=4, max_length=2, stride=2)\n",
        "\n",
        "for batch in dataloader:\n",
        "    x, y = batch\n",
        "    break\n",
        "\n",
        "x"
      ]
    },
    {
      "cell_type": "code",
      "execution_count": 16,
      "id": "ff5c1e90-c6de-4a87-adf6-7e19f603291c",
      "metadata": {
        "id": "ff5c1e90-c6de-4a87-adf6-7e19f603291c",
        "outputId": "b64f757b-7e82-4fca-9946-d529490d3561",
        "colab": {
          "base_uri": "https://localhost:8080/"
        }
      },
      "outputs": [
        {
          "output_type": "execute_result",
          "data": {
            "text/plain": [
              "tensor([[   40,   367,  2885,  1464,  1807,  3619,   402,   271],\n",
              "        [ 2885,  1464,  1807,  3619,   402,   271, 10899,  2138],\n",
              "        [ 1807,  3619,   402,   271, 10899,  2138,   257,  7026],\n",
              "        [  402,   271, 10899,  2138,   257,  7026, 15632,   438]])"
            ]
          },
          "metadata": {},
          "execution_count": 16
        }
      ],
      "source": [
        "dataloader = create_dataloader(raw_text, batch_size=4, max_length=8, stride=2)\n",
        "\n",
        "for batch in dataloader:\n",
        "    x, y = batch\n",
        "    break\n",
        "\n",
        "x"
      ]
    }
  ],
  "metadata": {
    "kernelspec": {
      "display_name": "Python 3 (ipykernel)",
      "language": "python",
      "name": "python3"
    },
    "language_info": {
      "codemirror_mode": {
        "name": "ipython",
        "version": 3
      },
      "file_extension": ".py",
      "mimetype": "text/x-python",
      "name": "python",
      "nbconvert_exporter": "python",
      "pygments_lexer": "ipython3",
      "version": "3.11.4"
    },
    "colab": {
      "provenance": [],
      "include_colab_link": true
    }
  },
  "nbformat": 4,
  "nbformat_minor": 5
}