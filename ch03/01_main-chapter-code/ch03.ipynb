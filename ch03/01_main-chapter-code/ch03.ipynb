{
  "cells": [
    {
      "cell_type": "markdown",
      "id": "1ae38945-39dd-45dc-ad4f-da7a4404241f",
      "metadata": {
        "id": "1ae38945-39dd-45dc-ad4f-da7a4404241f"
      },
      "source": [
        "<table style=\"width:100%\">\n",
        "<tr>\n",
        "<td style=\"vertical-align:middle; text-align:left;\">\n",
        "<font size=\"2\">\n",
        "세바스찬 라시카(Sebastian Raschka)가 쓴 <a href=\"http://mng.bz/orYv\">Build a Large Language Model From Scratch</a>의 번역서 예제 코드입니다.<br>\n",
        "<br>코드 저장소: <a href=\"https://github.com/rickiepark/llm-from-scratch\">https://github.com/rickiepark/llm-from-scratch</a>\n",
        "</font>\n",
        "</td>\n",
        "<td style=\"vertical-align:middle; text-align:left;\">\n",
        "<a href=\"http://mng.bz/orYv\"><img src=\"https://sebastianraschka.com/images/LLMs-from-scratch-images/cover-small.webp\" width=\"100px\"></a>\n",
        "</td>\n",
        "</tr>\n",
        "</table>"
      ]
    },
    {
      "cell_type": "markdown",
      "id": "8bfa70ec-5c4c-40e8-b923-16f8167e3181",
      "metadata": {
        "id": "8bfa70ec-5c4c-40e8-b923-16f8167e3181"
      },
      "source": [
        "# 3장: 어텐션 메커니즘 구현하기"
      ]
    },
    {
      "cell_type": "markdown",
      "id": "c29bcbe8-a034-43a2-b557-997b03c9882d",
      "metadata": {
        "id": "c29bcbe8-a034-43a2-b557-997b03c9882d"
      },
      "source": [
        "이 노트북에서 사용할 패키지:"
      ]
    },
    {
      "cell_type": "code",
      "execution_count": null,
      "id": "e58f33e8-5dc9-4dd5-ab84-5a011fa11d92",
      "metadata": {
        "id": "e58f33e8-5dc9-4dd5-ab84-5a011fa11d92",
        "outputId": "dc6efe7c-4715-4a57-d960-be0b9e1dc902"
      },
      "outputs": [
        {
          "name": "stdout",
          "output_type": "stream",
          "text": [
            "torch version: 2.4.0\n"
          ]
        }
      ],
      "source": [
        "from importlib.metadata import version\n",
        "\n",
        "print(\"파이토치 버전:\", version(\"torch\"))"
      ]
    },
    {
      "cell_type": "markdown",
      "id": "a2a4474d-7c68-4846-8702-37906cf08197",
      "metadata": {
        "id": "a2a4474d-7c68-4846-8702-37906cf08197"
      },
      "source": [
        "- 이 장은 LLM의 엔진인 어텐션 메커니즘을 다룹니다."
      ]
    },
    {
      "cell_type": "markdown",
      "id": "02a11208-d9d3-44b1-8e0d-0c8414110b93",
      "metadata": {
        "id": "02a11208-d9d3-44b1-8e0d-0c8414110b93"
      },
      "source": [
        "<img src=\"https://sebastianraschka.com/images/LLMs-from-scratch-images/ch03_compressed/01.webp?123\" width=\"700px\">"
      ]
    },
    {
      "cell_type": "markdown",
      "id": "50e020fd-9690-4343-80df-da96678bef5e",
      "metadata": {
        "id": "50e020fd-9690-4343-80df-da96678bef5e"
      },
      "source": [
        "<img src=\"https://sebastianraschka.com/images/LLMs-from-scratch-images/ch03_compressed/02.webp\" width=\"700px\">"
      ]
    },
    {
      "cell_type": "markdown",
      "id": "ecc4dcee-34ea-4c05-9085-2f8887f70363",
      "metadata": {
        "id": "ecc4dcee-34ea-4c05-9085-2f8887f70363"
      },
      "source": [
        "## 3.1 긴 시퀀스 모델링의 문제점"
      ]
    },
    {
      "cell_type": "markdown",
      "id": "a55aa49c-36c2-48da-b1d9-70f416e46a6a",
      "metadata": {
        "id": "a55aa49c-36c2-48da-b1d9-70f416e46a6a"
      },
      "source": [
        "- 소스 언어와 타깃 언어 사이의 문법 구조 차이 때문에 텍스트를 한 단어씩 번역하지 못합니다."
      ]
    },
    {
      "cell_type": "markdown",
      "id": "55c0c433-aa4b-491e-848a-54905ebb05ad",
      "metadata": {
        "id": "55c0c433-aa4b-491e-848a-54905ebb05ad"
      },
      "source": [
        "<img src=\"https://sebastianraschka.com/images/LLMs-from-scratch-images/ch03_compressed/03.webp\" width=\"700px\">"
      ]
    },
    {
      "cell_type": "markdown",
      "id": "db03c48a-3429-48ea-9d4a-2e53b0e516b1",
      "metadata": {
        "id": "db03c48a-3429-48ea-9d4a-2e53b0e516b1"
      },
      "source": [
        "- 트랜스포머 모델이 소개되기 전에는 인코더-디코더 RNN이 기계 번역 작업에 널리 사용되었습니다.\n",
        "- 해당 구조에서는 인코더가 소스 언어의 토큰 시퀀스를 처리하여 하나의 은닉 상태(신경망 중간 층의 출력)로 전체 입력 시퀀스의 압축된 표현을 만듭니다."
      ]
    },
    {
      "cell_type": "markdown",
      "id": "03d8df2c-c1c2-4df0-9977-ade9713088b2",
      "metadata": {
        "id": "03d8df2c-c1c2-4df0-9977-ade9713088b2"
      },
      "source": [
        "<img src=\"https://sebastianraschka.com/images/LLMs-from-scratch-images/ch03_compressed/04.webp\" width=\"700px\">"
      ]
    },
    {
      "cell_type": "markdown",
      "id": "3602c585-b87a-41c7-a324-c5e8298849df",
      "metadata": {
        "id": "3602c585-b87a-41c7-a324-c5e8298849df"
      },
      "source": [
        "## 3.2 어텐션 메커니즘으로 데이터 종속성 포착하기"
      ]
    },
    {
      "cell_type": "markdown",
      "id": "b6fde64c-6034-421d-81d9-8244932086ea",
      "metadata": {
        "id": "b6fde64c-6034-421d-81d9-8244932086ea"
      },
      "source": [
        "- 어텐션 메커니즘을 통해 신경망의 텍스트 생성 디코더가 모든 입력 토큰을 선택적으로 참조할 수 있습니다. 이는 특정 출력 토큰을 생성하는데 어떤 입력 토큰이 다른 토큰보다 중요하다는 의미입니다."
      ]
    },
    {
      "cell_type": "markdown",
      "id": "bc4f6293-8ab5-4aeb-a04c-50ee158485b1",
      "metadata": {
        "id": "bc4f6293-8ab5-4aeb-a04c-50ee158485b1"
      },
      "source": [
        "<img src=\"https://sebastianraschka.com/images/LLMs-from-scratch-images/ch03_compressed/05.webp\" width=\"700px\">"
      ]
    },
    {
      "cell_type": "markdown",
      "id": "8044be1f-e6a2-4a1f-a6dd-e325d3bad05e",
      "metadata": {
        "id": "8044be1f-e6a2-4a1f-a6dd-e325d3bad05e"
      },
      "source": [
        "- 트랜스포머의 셀프 어텐션은 시퀀스에 있는 각 위치가 동일 시퀀스에 있는 모든 다른 위치와 상호 작용하여 관련성을 결정함으로써 입력 표현을 향상시키는 기술입니다."
      ]
    },
    {
      "cell_type": "markdown",
      "id": "6565dc9f-b1be-4c78-b503-42ccc743296c",
      "metadata": {
        "id": "6565dc9f-b1be-4c78-b503-42ccc743296c"
      },
      "source": [
        "<img src=\"https://sebastianraschka.com/images/LLMs-from-scratch-images/ch03_compressed/06.webp\" width=\"500px\">"
      ]
    },
    {
      "cell_type": "markdown",
      "id": "5efe05ff-b441-408e-8d66-cde4eb3397e3",
      "metadata": {
        "id": "5efe05ff-b441-408e-8d66-cde4eb3397e3"
      },
      "source": [
        "## 3.3 셀프 어텐션으로 입력의 서로 다른 부분에 주의를 기울이기"
      ]
    },
    {
      "cell_type": "markdown",
      "id": "6d9af516-7c37-4400-ab53-34936d5495a9",
      "metadata": {
        "id": "6d9af516-7c37-4400-ab53-34936d5495a9"
      },
      "source": [
        "### 3.3.1 훈련 가능한 가중치가 없는 간단한 셀프 어텐션 메커니즘"
      ]
    },
    {
      "cell_type": "markdown",
      "id": "d269e9f1-df11-4644-b575-df338cf46cdf",
      "metadata": {
        "id": "d269e9f1-df11-4644-b575-df338cf46cdf"
      },
      "source": [
        "- 이 절은 훈련 가능한 가중치가 없는 매우 간단한 버전의 셀프 어텐션을 소개합니다.\n",
        "- 이는 순전히 설명을 위한 구현이며 트랜스포머에서 사용되는 어텐션 메커니즘은 아닙니다.\n",
        "- 다음 절(3.3.2)에서 이 간단한 어텐션 메커니즘을 확장하여 실제 셀프 어텐션 메커니즘을 구현해 보겠습니다.\n",
        "-  $x^{(1)}$부터 $x^{(T)}$까지 하나의 입력 시퀀스가 주어졌다고 가정해 보죠.\n",
        "    - 입력은 텍스트(예를 들어 \"Your journey starts with one step\"와 같은 문장)이며, 2장에서 소개한 토큰 임베딩으로 이미 변환된 상태입니다.\n",
        "    - 예를 들어 $x^{(1)}$은 단어 \"Your\"를 나타내는 d 차원 벡터입니다.\n",
        "- **목표**: $x^{(1)}$에서 $x^{(T)}$ 사이에 있는 각 입력 시퀀스 원소 $x^{(i)}$에 대한 문맥 벡터 $z^{(i)}$를 계산합니다($z$와 $x$는 차원이 같습니다)\n",
        "    - 문맥 벡터 $z^{(i)}$는 입력 $x^{(1)}$에서 $x^{(T)}$까지에 대한 가중치 합입니다.\n",
        "    - 문맥 벡터는 특정 입력에 대한 문맥을 제공합니다.\n",
        "        - 임의의 입력 토큰에 대한 플레이스홀더인 $x^{(i)}$ 대신에 두 번째 입력 $x^{(2)}$를 생각해 보죠.\n",
        "        - 마찬가지로 구체적인 예를 위해 플레이스홀더 $z^{(i)}$ 대신에 두 번째 문맥 벡터 $z^{(2)}$를 생각해 보겠습니다.\n",
        "        - 두 번째 문맥 벡터 $z^{(2)}$는 두 번째 입력 $x^{(2)}$에 대해 모든 입력($x^{(1)}$~$x^{(T)}$)을 가중치 합한 것입니다.\n",
        "        - 어텐션 가중치는 $z^{(2)}$를 계산할 때 입력 원소가 가중치 합에 얼마나 기여하는지를 결정하는 가중치입니다.\n",
        "        - 간단히 말해 $z^{(2)}$를 주어진 작업에 관련있는 다른 모든 입력에 관한 정보를 통합한 $x^{(2)}$의 개량 버전으로 볼 수 있습니다."
      ]
    },
    {
      "cell_type": "markdown",
      "id": "fcc7c7a2-b6ab-478f-ae37-faa8eaa8049a",
      "metadata": {
        "id": "fcc7c7a2-b6ab-478f-ae37-faa8eaa8049a"
      },
      "source": [
        "<img src=\"https://sebastianraschka.com/images/LLMs-from-scratch-images/ch03_compressed/07.webp\" width=\"600px\">\n",
        "\n",
        "- (이 그림과 다른 그림은 복잡하지 않게 하기 위해 일부 소수점 이하를 표시하지 않습니다)"
      ]
    },
    {
      "cell_type": "markdown",
      "id": "ff856c58-8382-44c7-827f-798040e6e697",
      "metadata": {
        "id": "ff856c58-8382-44c7-827f-798040e6e697"
      },
      "source": [
        "- 관례적으로 정규화되지 않은 어텐션 가중치를 **어텐션 점수**라고 부르며 합이 1이 되도록 정규화한 어텐션 점수를 **어텐션 가중치**라고 부릅니다."
      ]
    },
    {
      "cell_type": "markdown",
      "id": "01b10344-128d-462a-823f-2178dff5fd58",
      "metadata": {
        "id": "01b10344-128d-462a-823f-2178dff5fd58"
      },
      "source": [
        "- 아래 코드는 위 그림을 단계적으로 진행합니다.\n",
        "\n",
        "<br>\n",
        "\n",
        "- **단계 1:** 정규화되지 않은 어텐션 점수 $\\omega$를 계산합니다.\n",
        "- 두 번째 입력 토큰을 쿼리로 사용한다면(즉, $q^{(2)} = x^{(2)}$), 다음처럼 점곰을 사용해 정규화되지 않은 어텐션 점수를 계산합니다.\n",
        "    - $\\omega_{21} = x^{(1)} q^{(2)\\top}$\n",
        "    - $\\omega_{22} = x^{(2)} q^{(2)\\top}$\n",
        "    - $\\omega_{23} = x^{(3)} q^{(2)\\top}$\n",
        "    - ...\n",
        "    - $\\omega_{2T} = x^{(T)} q^{(2)\\top}$\n",
        "- 위에서 $\\omega$는 정규화되지 않은 어텐션 점수를 나타내는 그리스 문자 \"오메가\"입니다.\n",
        "    - $\\omega_{21}$에 있는 아래첨자 \"21\"은 입력 시퀀스 원소 1에 대해 입력 시퀀스 원소 2를 쿼리로 사용한다는 의미입니다."
      ]
    },
    {
      "cell_type": "markdown",
      "id": "35e55f7a-f2d0-4f24-858b-228e4fe88fb3",
      "metadata": {
        "id": "35e55f7a-f2d0-4f24-858b-228e4fe88fb3"
      },
      "source": [
        "- 다음처럼 3차원 벡터로 임베딩한 입력 시퀀스가 있다고 가정해 보죠(줄바꿈 없이 한 페이지에 들어가도록 작은 임베딩 차원을 사용합니다)."
      ]
    },
    {
      "cell_type": "code",
      "execution_count": null,
      "id": "22b9556a-aaf8-4ab4-a5b4-973372b0b2c3",
      "metadata": {
        "id": "22b9556a-aaf8-4ab4-a5b4-973372b0b2c3"
      },
      "outputs": [],
      "source": [
        "import torch\n",
        "\n",
        "inputs = torch.tensor(\n",
        "  [[0.43, 0.15, 0.89], # Your     (x^1)\n",
        "   [0.55, 0.87, 0.66], # journey  (x^2)\n",
        "   [0.57, 0.85, 0.64], # starts   (x^3)\n",
        "   [0.22, 0.58, 0.33], # with     (x^4)\n",
        "   [0.77, 0.25, 0.10], # one      (x^5)\n",
        "   [0.05, 0.80, 0.55]] # step     (x^6)\n",
        ")"
      ]
    },
    {
      "cell_type": "markdown",
      "id": "299baef3-b1a8-49ba-bad4-f62c8a416d83",
      "metadata": {
        "id": "299baef3-b1a8-49ba-bad4-f62c8a416d83"
      },
      "source": [
        "- (이 책에서는 일반적인 머신러닝과 딥러닝 관례를 따라 훈련 샘플이 행을 따라 놓여 있고 특성 값은 열을 따라 놓여 있습니다. 위의 텐서의 경우 각 해은 단어를 나타내며, 각 열은 임베딩 차원을 나타냅니다)\n",
        "- 이 절의 주요 목표는 두 번째 입력 원소 $x^{(2)}$를 쿼리로 사용해 문맥 벡터 $z^{(2)}$를 계산하는 방법을 설명하는 것입니다.\n",
        "- 이 그림은 점곱 연산을 통해 $x^{(2)}$와 다른 모든 입력 원소 사이의 어텐션 점수 ω를 계산하기 위한 초기 단계를 보여줍니다."
      ]
    },
    {
      "cell_type": "markdown",
      "id": "5cb3453a-58fa-42c4-b225-86850bc856f8",
      "metadata": {
        "id": "5cb3453a-58fa-42c4-b225-86850bc856f8"
      },
      "source": [
        "<img src=\"https://sebastianraschka.com/images/LLMs-from-scratch-images/ch03_compressed/08.webp\" width=\"700px\">"
      ]
    },
    {
      "cell_type": "markdown",
      "id": "77be52fb-82fd-4886-a4c8-f24a9c87af22",
      "metadata": {
        "id": "77be52fb-82fd-4886-a4c8-f24a9c87af22"
      },
      "source": [
        "- 두 번째 입력 원소 $x^{(2)}$를 사용해 문맥 벡터 $z^{(2)}$를 계산해 보죠. 나중에 이 절에서 이 계산을 모든 문맥 벡터로 일반화하겠습니다.\n",
        "- 첫 번째 단계는 쿼리 $x^{(2)}$와 다른 모든 입력 토큰 사이에서 점곱을 계산하여 정규화되지 않은 어텐션 점수를 구하는 것입니다."
      ]
    },
    {
      "cell_type": "code",
      "execution_count": null,
      "id": "6fb5b2f8-dd2c-4a6d-94ef-a0e9ad163951",
      "metadata": {
        "id": "6fb5b2f8-dd2c-4a6d-94ef-a0e9ad163951",
        "outputId": "ac32eec3-28ab-481c-ec67-356f0aea6039"
      },
      "outputs": [
        {
          "name": "stdout",
          "output_type": "stream",
          "text": [
            "tensor([0.9544, 1.4950, 1.4754, 0.8434, 0.7070, 1.0865])\n"
          ]
        }
      ],
      "source": [
        "query = inputs[1]  # 두 번째 입력 토큰이 쿼리입니다\n",
        "\n",
        "attn_scores_2 = torch.empty(inputs.shape[0])\n",
        "for i, x_i in enumerate(inputs):\n",
        "    attn_scores_2[i] = torch.dot(x_i, query) # 점곱 (1차원 벡터이므로 전치가 필요 없습니다)\n",
        "\n",
        "print(attn_scores_2)"
      ]
    },
    {
      "cell_type": "markdown",
      "id": "8df09ae0-199f-4b6f-81a0-2f70546684b8",
      "metadata": {
        "id": "8df09ae0-199f-4b6f-81a0-2f70546684b8"
      },
      "source": [
        "- 노트: 점곱은 두 벡터를 원소별 곰셉하고 그 결과를 모두 더합니다."
      ]
    },
    {
      "cell_type": "code",
      "execution_count": null,
      "id": "9842f39b-1654-410e-88bf-d1b899bf0241",
      "metadata": {
        "id": "9842f39b-1654-410e-88bf-d1b899bf0241",
        "outputId": "3efde0f8-e9fd-49d2-efad-2f03a775a9d8"
      },
      "outputs": [
        {
          "name": "stdout",
          "output_type": "stream",
          "text": [
            "tensor(0.9544)\n",
            "tensor(0.9544)\n"
          ]
        }
      ],
      "source": [
        "res = 0.\n",
        "\n",
        "for idx, element in enumerate(inputs[0]):\n",
        "    res += inputs[0][idx] * query[idx]\n",
        "\n",
        "print(res)\n",
        "print(torch.dot(inputs[0], query))"
      ]
    },
    {
      "cell_type": "markdown",
      "id": "7d444d76-e19e-4e9a-a268-f315d966609b",
      "metadata": {
        "id": "7d444d76-e19e-4e9a-a268-f315d966609b"
      },
      "source": [
        "- **단계 2**: 정규화되지 않은 어텐션 점수($\\omega$)를 합이 1이 되도록 정규화합니다.\n",
        "- 정규화되지 않은 어텐션 점수를 (이해하기 쉽고 훈련 안정성에 중요하므로) 합이 1이 되도록 정규화하는 간단한 방법은 다음과 같습니다."
      ]
    },
    {
      "cell_type": "markdown",
      "id": "dfd965d6-980c-476a-93d8-9efe603b1b3b",
      "metadata": {
        "id": "dfd965d6-980c-476a-93d8-9efe603b1b3b"
      },
      "source": [
        "<img src=\"https://sebastianraschka.com/images/LLMs-from-scratch-images/ch03_compressed/09.webp\" width=\"700px\">"
      ]
    },
    {
      "cell_type": "code",
      "execution_count": null,
      "id": "e3ccc99c-33ce-4f11-b7f2-353cf1cbdaba",
      "metadata": {
        "id": "e3ccc99c-33ce-4f11-b7f2-353cf1cbdaba",
        "outputId": "6a3f1080-fd28-43f7-c7b3-740d11e11b03"
      },
      "outputs": [
        {
          "name": "stdout",
          "output_type": "stream",
          "text": [
            "Attention weights: tensor([0.1455, 0.2278, 0.2249, 0.1285, 0.1077, 0.1656])\n",
            "Sum: tensor(1.0000)\n"
          ]
        }
      ],
      "source": [
        "attn_weights_2_tmp = attn_scores_2 / attn_scores_2.sum()\n",
        "\n",
        "print(\"어텐션 가중치:\", attn_weights_2_tmp)\n",
        "print(\"합:\", attn_weights_2_tmp.sum())"
      ]
    },
    {
      "cell_type": "markdown",
      "id": "75dc0a57-f53e-41bf-8793-daa77a819431",
      "metadata": {
        "id": "75dc0a57-f53e-41bf-8793-daa77a819431"
      },
      "source": [
        "- 하지만 실전에서는 소프트맥스 함수로 정규화를 하는 것이 일반적이고 권장됩니다. 극한 값을 잘 다루고 훈련 과정에 유용한 그레이디언트 속성을 제공하기 때문입니다.\n",
        "- 다음은 단순한 소프트맥스 함수 구현이며, 벡터 원소의 합이 1이 되도록 정규화합니다."
      ]
    },
    {
      "cell_type": "code",
      "execution_count": null,
      "id": "07b2e58d-a6ed-49f0-a1cd-2463e8d53a20",
      "metadata": {
        "id": "07b2e58d-a6ed-49f0-a1cd-2463e8d53a20",
        "outputId": "862ef1bf-673f-4eb0-a1c8-9e13b1feee06"
      },
      "outputs": [
        {
          "name": "stdout",
          "output_type": "stream",
          "text": [
            "Attention weights: tensor([0.1385, 0.2379, 0.2333, 0.1240, 0.1082, 0.1581])\n",
            "Sum: tensor(1.)\n"
          ]
        }
      ],
      "source": [
        "def softmax_naive(x):\n",
        "    return torch.exp(x) / torch.exp(x).sum(dim=0)\n",
        "\n",
        "attn_weights_2_naive = softmax_naive(attn_scores_2)\n",
        "\n",
        "print(\"어텐션 가중치:\", attn_weights_2_naive)\n",
        "print(\"합:\", attn_weights_2_naive.sum())"
      ]
    },
    {
      "cell_type": "markdown",
      "id": "f0a1cbbb-4744-41cb-8910-f5c1355555fb",
      "metadata": {
        "id": "f0a1cbbb-4744-41cb-8910-f5c1355555fb"
      },
      "source": [
        "- 단순한 위 구현은 입력이 매우 작거나 클 경우 오버플로나 언더플로 때문에 수치적으로 불안정합니다.\n",
        "- 따라서 실제로는 고도로 성능이 최적화된 파이토치의 소프트맥스 구현을 사용하는 것이 좋습니다."
      ]
    },
    {
      "cell_type": "code",
      "execution_count": null,
      "id": "2d99cac4-45ea-46b3-b3c1-e000ad16e158",
      "metadata": {
        "id": "2d99cac4-45ea-46b3-b3c1-e000ad16e158",
        "outputId": "4f293cf9-f453-4522-850f-cd4b32ede77d"
      },
      "outputs": [
        {
          "name": "stdout",
          "output_type": "stream",
          "text": [
            "Attention weights: tensor([0.1385, 0.2379, 0.2333, 0.1240, 0.1082, 0.1581])\n",
            "Sum: tensor(1.)\n"
          ]
        }
      ],
      "source": [
        "attn_weights_2 = torch.softmax(attn_scores_2, dim=0)\n",
        "\n",
        "print(\"어텐션 가중치:\", attn_weights_2)\n",
        "print(\"합:\", attn_weights_2.sum())"
      ]
    },
    {
      "cell_type": "markdown",
      "id": "e43e36c7-90b2-427f-94f6-bb9d31b2ab3f",
      "metadata": {
        "id": "e43e36c7-90b2-427f-94f6-bb9d31b2ab3f"
      },
      "source": [
        "- **단계 3**: 임베딩된 입력 토큰 $x^{(i)}$과 어텐ㅅ현 가중치를 곱하고 결과 벡터를 더해서 문맥 벡터 $z^{(2)}$를 계산합니다."
      ]
    },
    {
      "cell_type": "markdown",
      "id": "f1c9f5ac-8d3d-4847-94e3-fd783b7d4d3d",
      "metadata": {
        "id": "f1c9f5ac-8d3d-4847-94e3-fd783b7d4d3d"
      },
      "source": [
        "<img src=\"https://sebastianraschka.com/images/LLMs-from-scratch-images/ch03_compressed/10.webp\" width=\"700px\">"
      ]
    },
    {
      "cell_type": "code",
      "execution_count": null,
      "id": "8fcb96f0-14e5-4973-a50e-79ea7c6af99f",
      "metadata": {
        "id": "8fcb96f0-14e5-4973-a50e-79ea7c6af99f",
        "outputId": "571563cb-6bac-46d6-a438-14e37c3b5b84"
      },
      "outputs": [
        {
          "name": "stdout",
          "output_type": "stream",
          "text": [
            "tensor([0.4419, 0.6515, 0.5683])\n"
          ]
        }
      ],
      "source": [
        "query = inputs[1] # 두 번째 입력 토큰이 쿼리입니다.\n",
        "\n",
        "context_vec_2 = torch.zeros(query.shape)\n",
        "for i,x_i in enumerate(inputs):\n",
        "    context_vec_2 += attn_weights_2[i]*x_i\n",
        "\n",
        "print(context_vec_2)"
      ]
    },
    {
      "cell_type": "markdown",
      "id": "5a454262-40eb-430e-9ca4-e43fb8d6cd89",
      "metadata": {
        "id": "5a454262-40eb-430e-9ca4-e43fb8d6cd89"
      },
      "source": [
        "### 3.3.2 모든 입력 토큰에 대해 어텐션 가중치 계산하기"
      ]
    },
    {
      "cell_type": "markdown",
      "id": "6a02bb73-fc19-4c88-b155-8314de5d63a8",
      "metadata": {
        "id": "6a02bb73-fc19-4c88-b155-8314de5d63a8"
      },
      "source": [
        "#### 모든 입력 토큰에 일반화하기\n",
        "\n",
        "- 위에서 두 번째 입력(아래 그림에서 강조 표시된 행)에 대한 어텐션 가중치와 문맥 벡터를 계산했습니다.\n",
        "- 다음으로 이 계산을 일반화하여 모든 어텐션 가중치와 문맥 벡터를 계산합니다."
      ]
    },
    {
      "cell_type": "markdown",
      "id": "11c0fb55-394f-42f4-ba07-d01ae5c98ab4",
      "metadata": {
        "id": "11c0fb55-394f-42f4-ba07-d01ae5c98ab4"
      },
      "source": [
        "<img src=\"https://sebastianraschka.com/images/LLMs-from-scratch-images/ch03_compressed/11.webp\" width=\"500px\">\n",
        "\n",
        "- (이 그림의 숫자는 소수점 둘째 자리에서 잘렸습니다. 각 행의 값을 모두 더하면 1.0 또는 100%가 되어야 합니다)"
      ]
    },
    {
      "cell_type": "markdown",
      "id": "b789b990-fb51-4beb-9212-bf58876b5983",
      "metadata": {
        "id": "b789b990-fb51-4beb-9212-bf58876b5983"
      },
      "source": [
        "- 셀프 어텐션에서 어텐션 점수를 먼저 계산하고, 합이 1이 되도록 정규화하여 어텐션 가중치를 만듭니다.\n",
        "- 이 어텐션 가중치를 사용해 입력의 가중치 합으로 문맥 벡터를 계산합니다."
      ]
    },
    {
      "cell_type": "markdown",
      "id": "d9bffe4b-56fe-4c37-9762-24bd924b7d3c",
      "metadata": {
        "id": "d9bffe4b-56fe-4c37-9762-24bd924b7d3c"
      },
      "source": [
        "<img src=\"https://sebastianraschka.com/images/LLMs-from-scratch-images/ch03_compressed/12.webp\" width=\"500px\">"
      ]
    },
    {
      "cell_type": "markdown",
      "id": "aa652506-f2c8-473c-a905-85c389c842cc",
      "metadata": {
        "id": "aa652506-f2c8-473c-a905-85c389c842cc"
      },
      "source": [
        "- **단계 1**을 모든 원소 쌍에 적용하여 정규화되지 않은 어텐션 점수 행렬을 만듭니다."
      ]
    },
    {
      "cell_type": "code",
      "execution_count": null,
      "id": "04004be8-07a1-468b-ab33-32e16a551b45",
      "metadata": {
        "id": "04004be8-07a1-468b-ab33-32e16a551b45",
        "outputId": "d77ae0f5-2d7f-41fc-9b11-e061a5681462"
      },
      "outputs": [
        {
          "name": "stdout",
          "output_type": "stream",
          "text": [
            "tensor([[0.9995, 0.9544, 0.9422, 0.4753, 0.4576, 0.6310],\n",
            "        [0.9544, 1.4950, 1.4754, 0.8434, 0.7070, 1.0865],\n",
            "        [0.9422, 1.4754, 1.4570, 0.8296, 0.7154, 1.0605],\n",
            "        [0.4753, 0.8434, 0.8296, 0.4937, 0.3474, 0.6565],\n",
            "        [0.4576, 0.7070, 0.7154, 0.3474, 0.6654, 0.2935],\n",
            "        [0.6310, 1.0865, 1.0605, 0.6565, 0.2935, 0.9450]])\n"
          ]
        }
      ],
      "source": [
        "attn_scores = torch.empty(6, 6)\n",
        "\n",
        "for i, x_i in enumerate(inputs):\n",
        "    for j, x_j in enumerate(inputs):\n",
        "        attn_scores[i, j] = torch.dot(x_i, x_j)\n",
        "\n",
        "print(attn_scores)"
      ]
    },
    {
      "cell_type": "markdown",
      "id": "1539187f-1ece-47b7-bc9b-65a97115f1d4",
      "metadata": {
        "id": "1539187f-1ece-47b7-bc9b-65a97115f1d4"
      },
      "source": [
        "- 행렬 곱셈을 사용하여 동일한 행렬을 더 효율적으로 계산할 수 있습니다."
      ]
    },
    {
      "cell_type": "code",
      "execution_count": null,
      "id": "2cea69d0-9a47-45da-8d5a-47ceef2df673",
      "metadata": {
        "id": "2cea69d0-9a47-45da-8d5a-47ceef2df673",
        "outputId": "c74e3d77-ce16-4e26-d8f7-9efcfd160842"
      },
      "outputs": [
        {
          "name": "stdout",
          "output_type": "stream",
          "text": [
            "tensor([[0.9995, 0.9544, 0.9422, 0.4753, 0.4576, 0.6310],\n",
            "        [0.9544, 1.4950, 1.4754, 0.8434, 0.7070, 1.0865],\n",
            "        [0.9422, 1.4754, 1.4570, 0.8296, 0.7154, 1.0605],\n",
            "        [0.4753, 0.8434, 0.8296, 0.4937, 0.3474, 0.6565],\n",
            "        [0.4576, 0.7070, 0.7154, 0.3474, 0.6654, 0.2935],\n",
            "        [0.6310, 1.0865, 1.0605, 0.6565, 0.2935, 0.9450]])\n"
          ]
        }
      ],
      "source": [
        "attn_scores = inputs @ inputs.T\n",
        "print(attn_scores)"
      ]
    },
    {
      "cell_type": "markdown",
      "id": "02c4bac4-acfd-427f-9b11-c436ac71748d",
      "metadata": {
        "id": "02c4bac4-acfd-427f-9b11-c436ac71748d"
      },
      "source": [
        "- 이전의 **단계 2**와 비슷하게 각 행의 값이 1이 되도록 정규화합니다."
      ]
    },
    {
      "cell_type": "code",
      "execution_count": null,
      "id": "fa4ef062-de81-47ee-8415-bfe1708c81b8",
      "metadata": {
        "id": "fa4ef062-de81-47ee-8415-bfe1708c81b8",
        "outputId": "c6ecbda0-04b4-4521-c96c-417add3c30a6"
      },
      "outputs": [
        {
          "name": "stdout",
          "output_type": "stream",
          "text": [
            "tensor([[0.2098, 0.2006, 0.1981, 0.1242, 0.1220, 0.1452],\n",
            "        [0.1385, 0.2379, 0.2333, 0.1240, 0.1082, 0.1581],\n",
            "        [0.1390, 0.2369, 0.2326, 0.1242, 0.1108, 0.1565],\n",
            "        [0.1435, 0.2074, 0.2046, 0.1462, 0.1263, 0.1720],\n",
            "        [0.1526, 0.1958, 0.1975, 0.1367, 0.1879, 0.1295],\n",
            "        [0.1385, 0.2184, 0.2128, 0.1420, 0.0988, 0.1896]])\n"
          ]
        }
      ],
      "source": [
        "attn_weights = torch.softmax(attn_scores, dim=-1)\n",
        "print(attn_weights)"
      ]
    },
    {
      "cell_type": "markdown",
      "id": "3fa6d02b-7f15-4eb4-83a7-0b8a819e7a0c",
      "metadata": {
        "id": "3fa6d02b-7f15-4eb4-83a7-0b8a819e7a0c"
      },
      "source": [
        "- 각 행의 합이 1이 되는지 간단히 확인합니다."
      ]
    },
    {
      "cell_type": "code",
      "execution_count": null,
      "id": "112b492c-fb6f-4e6d-8df5-518ae83363d5",
      "metadata": {
        "id": "112b492c-fb6f-4e6d-8df5-518ae83363d5",
        "outputId": "b5f4ba09-4164-4bea-f27a-5014aa8c3f58"
      },
      "outputs": [
        {
          "name": "stdout",
          "output_type": "stream",
          "text": [
            "Row 2 sum: 1.0\n",
            "All row sums: tensor([1.0000, 1.0000, 1.0000, 1.0000, 1.0000, 1.0000])\n"
          ]
        }
      ],
      "source": [
        "row_2_sum = sum([0.1385, 0.2379, 0.2333, 0.1240, 0.1082, 0.1581])\n",
        "print(\"두 번째 행의 합:\", row_2_sum)\n",
        "\n",
        "print(\"모든 행의 합:\", attn_weights.sum(dim=-1))"
      ]
    },
    {
      "cell_type": "markdown",
      "id": "138b0b5c-d813-44c7-b373-fde9540ddfd1",
      "metadata": {
        "id": "138b0b5c-d813-44c7-b373-fde9540ddfd1"
      },
      "source": [
        "- **단계 3**을 적용해 모든 문맥 벡터를 계산합니다."
      ]
    },
    {
      "cell_type": "code",
      "execution_count": null,
      "id": "ba8eafcf-f7f7-4989-b8dc-61b50c4f81dc",
      "metadata": {
        "id": "ba8eafcf-f7f7-4989-b8dc-61b50c4f81dc",
        "outputId": "0d3c3623-540b-4bc4-806a-497c01e1aaaf"
      },
      "outputs": [
        {
          "name": "stdout",
          "output_type": "stream",
          "text": [
            "tensor([[0.4421, 0.5931, 0.5790],\n",
            "        [0.4419, 0.6515, 0.5683],\n",
            "        [0.4431, 0.6496, 0.5671],\n",
            "        [0.4304, 0.6298, 0.5510],\n",
            "        [0.4671, 0.5910, 0.5266],\n",
            "        [0.4177, 0.6503, 0.5645]])\n"
          ]
        }
      ],
      "source": [
        "all_context_vecs = attn_weights @ inputs\n",
        "print(all_context_vecs)"
      ]
    },
    {
      "cell_type": "markdown",
      "id": "25b245b8-7732-4fab-aa1c-e3d333195605",
      "metadata": {
        "id": "25b245b8-7732-4fab-aa1c-e3d333195605"
      },
      "source": [
        "- 앞서 계산한 문맥 벡터 $z^{(2)} = [0.4419, 0.6515, 0.5683]$이 위 행렬의 두 번째 행과 같습니다."
      ]
    },
    {
      "cell_type": "code",
      "execution_count": null,
      "id": "2570eb7d-aee1-457a-a61e-7544478219fa",
      "metadata": {
        "id": "2570eb7d-aee1-457a-a61e-7544478219fa",
        "outputId": "07e721d4-8c4a-43b7-bbc0-a4ecc33fd09c"
      },
      "outputs": [
        {
          "name": "stdout",
          "output_type": "stream",
          "text": [
            "Previous 2nd context vector: tensor([0.4419, 0.6515, 0.5683])\n"
          ]
        }
      ],
      "source": [
        "print(\"이전에 계산한 두 번째 문맥 벡터:\", context_vec_2)"
      ]
    },
    {
      "cell_type": "markdown",
      "id": "a303b6fb-9f7e-42bb-9fdb-2adabf0a6525",
      "metadata": {
        "id": "a303b6fb-9f7e-42bb-9fdb-2adabf0a6525"
      },
      "source": [
        "## 3.4 훈련 가능한 가중치를 가진 셀프 어텐션 구현하기"
      ]
    },
    {
      "cell_type": "markdown",
      "id": "88363117-93d8-41fb-8240-f7cfe08b14a3",
      "metadata": {
        "id": "88363117-93d8-41fb-8240-f7cfe08b14a3"
      },
      "source": [
        "- 다음 그림은 이 절에서 구현한 셀프 어텐션 메커니즘이 이 책과 이 장의 전체 구조에 어떻게 통합되는지 보여주는 개념 프레임워크입니다."
      ]
    },
    {
      "cell_type": "markdown",
      "id": "ac9492ba-6f66-4f65-bd1d-87cf16d59928",
      "metadata": {
        "id": "ac9492ba-6f66-4f65-bd1d-87cf16d59928"
      },
      "source": [
        "<img src=\"https://sebastianraschka.com/images/LLMs-from-scratch-images/ch03_compressed/13.webp\" width=\"700px\">"
      ]
    },
    {
      "cell_type": "markdown",
      "id": "2b90a77e-d746-4704-9354-1ddad86e6298",
      "metadata": {
        "id": "2b90a77e-d746-4704-9354-1ddad86e6298"
      },
      "source": [
        "### 3.4.1 단계별로 어텐션 가중치 계산하기"
      ]
    },
    {
      "cell_type": "markdown",
      "id": "46e95a46-1f67-4b71-9e84-8e2db84ab036",
      "metadata": {
        "id": "46e95a46-1f67-4b71-9e84-8e2db84ab036"
      },
      "source": [
        "- 이 절에서 원본 트랜스포머, GPT 모델 그외 다른 LLM에서 사용하는 셀프 어텐션 메커니즘을 구현합니다.\n",
        "- 셀프 어텐션 메커니즘을 스케일드 점곱 어텐션이라고도 부릅니다.\n",
        "- 전체적인 아이디어는 이전과 동일합니다.\n",
        "    - 특정 입력 원소에 대한 입력 벡터의 가중치 합으로 문맥 벡터를 계산합니다.\n",
        "    - 위를 위해 어텐션 가중치가 필요하니다.\n",
        "- 앞으로 보겠지만 앞서 소개한 기본적인 어텐션 메커니즘과 조금만 차이가 있습니다.\n",
        "    - 가장 큰 차이는 모델 훈련 과정에서 업데이트되는 가중치 행렬이 추가된 것입니다.\n",
        "    - 모델이 (구체적으로 모델 안에 있는 어텐션 모듈이) \"좋은\" 문맥 벡터를 생성하는 방법을 학습할 수 있기 때문에 이 훈련 가능한 가중치가 중요합니다."
      ]
    },
    {
      "cell_type": "markdown",
      "id": "59db4093-93e8-4bee-be8f-c8fac8a08cdd",
      "metadata": {
        "id": "59db4093-93e8-4bee-be8f-c8fac8a08cdd"
      },
      "source": [
        "<img src=\"https://sebastianraschka.com/images/LLMs-from-scratch-images/ch03_compressed/14.webp\" width=\"700px\">"
      ]
    },
    {
      "cell_type": "markdown",
      "id": "4d996671-87aa-45c9-b2e0-07a7bcc9060a",
      "metadata": {
        "id": "4d996671-87aa-45c9-b2e0-07a7bcc9060a"
      },
      "source": [
        "- 단계별로 셀프 어텐션 메커니즘을 구현하기 위해 세 개의 훈련 가중치 행렬 $W_q$, $W_k$, $W_v$를 도입합니다.\n",
        "- 이 세 개의 행렬에 행렬 곱셈을 적용하여 임베딩된 입력 토큰 $x^{(i)}$을 쿼리, 키, 값 벡터로 투영합니다.\n",
        "  - 쿼리 벡터: $q^{(i)} = W_q \\,x^{(i)}$\n",
        "  - 키 벡터: $k^{(i)} = W_k \\,x^{(i)}$\n",
        "  - 값 벡터: $v^{(i)} = W_v \\,x^{(i)}$\n"
      ]
    },
    {
      "cell_type": "markdown",
      "id": "9f334313-5fd0-477b-8728-04080a427049",
      "metadata": {
        "id": "9f334313-5fd0-477b-8728-04080a427049"
      },
      "source": [
        "- 입력 $x$와 쿼리 벡터 $q$의 임베딩 차원은 같은 수도 있고 다를 수도 있습니다. 모델 설계와 특정 구현에 따라 결정됩니다.\n",
        "- GPT 모델에서는 입력과 출력 차원이 일반적으로 같습니다. 하지만 계산 과정을 설명하기 쉽도록 입력과 출력 차원을 다르게 하겠습니다."
      ]
    },
    {
      "cell_type": "code",
      "execution_count": null,
      "id": "8250fdc6-6cd6-4c5b-b9c0-8c643aadb7db",
      "metadata": {
        "id": "8250fdc6-6cd6-4c5b-b9c0-8c643aadb7db"
      },
      "outputs": [],
      "source": [
        "x_2 = inputs[1] # 두 번째 입력 원소\n",
        "d_in = inputs.shape[1] # 입력 임베딩 크기, d=3\n",
        "d_out = 2 # 출력 임베딩 크기, d=2"
      ]
    },
    {
      "cell_type": "markdown",
      "id": "f528cfb3-e226-47dd-b363-cc2caaeba4bf",
      "metadata": {
        "id": "f528cfb3-e226-47dd-b363-cc2caaeba4bf"
      },
      "source": [
        "- 아래에서 세 개의 가중치 행렬을 초기화합니다. 출력을 간소화하기 위해 `requires_grad=False`로 지정하지만 가중치 행렬로 모델을 훈련하려면 `requires_grad=True`로 지정해서 훈련 과정 중에 이 행렬들을 업데이트해야 합니다"
      ]
    },
    {
      "cell_type": "code",
      "execution_count": null,
      "id": "bfd7259a-f26c-4cea-b8fc-282b5cae1e00",
      "metadata": {
        "id": "bfd7259a-f26c-4cea-b8fc-282b5cae1e00"
      },
      "outputs": [],
      "source": [
        "torch.manual_seed(123)\n",
        "\n",
        "W_query = torch.nn.Parameter(torch.rand(d_in, d_out), requires_grad=False)\n",
        "W_key   = torch.nn.Parameter(torch.rand(d_in, d_out), requires_grad=False)\n",
        "W_value = torch.nn.Parameter(torch.rand(d_in, d_out), requires_grad=False)"
      ]
    },
    {
      "cell_type": "markdown",
      "id": "abfd0b50-7701-4adb-821c-e5433622d9c4",
      "metadata": {
        "id": "abfd0b50-7701-4adb-821c-e5433622d9c4"
      },
      "source": [
        "- 그다음 쿼리, 키, 값 벡터를 계산합니다."
      ]
    },
    {
      "cell_type": "code",
      "execution_count": null,
      "id": "73cedd62-01e1-4196-a575-baecc6095601",
      "metadata": {
        "id": "73cedd62-01e1-4196-a575-baecc6095601",
        "outputId": "2ff31c90-9126-416d-b6b7-0283b7a679f6"
      },
      "outputs": [
        {
          "name": "stdout",
          "output_type": "stream",
          "text": [
            "tensor([0.4306, 1.4551])\n"
          ]
        }
      ],
      "source": [
        "query_2 = x_2 @ W_query # 두 번째 입력 원소에 대한 값을 계산하므로 _2로 씁니다.\n",
        "key_2 = x_2 @ W_key\n",
        "value_2 = x_2 @ W_value\n",
        "\n",
        "print(query_2)"
      ]
    },
    {
      "cell_type": "markdown",
      "id": "9be308b3-aca3-421b-b182-19c3a03b71c7",
      "metadata": {
        "id": "9be308b3-aca3-421b-b182-19c3a03b71c7"
      },
      "source": [
        "- 아래에서 보듯이 여섯 개의 입력 토큰을 3D에서 2D 임베딩 공간에 성공적으로 투영합니다."
      ]
    },
    {
      "cell_type": "code",
      "execution_count": null,
      "id": "8c1c3949-fc08-4d19-a41e-1c235b4e631b",
      "metadata": {
        "id": "8c1c3949-fc08-4d19-a41e-1c235b4e631b",
        "outputId": "cf313998-ac2d-4e4d-82ed-698d179d6888"
      },
      "outputs": [
        {
          "name": "stdout",
          "output_type": "stream",
          "text": [
            "keys.shape: torch.Size([6, 2])\n",
            "values.shape: torch.Size([6, 2])\n"
          ]
        }
      ],
      "source": [
        "keys = inputs @ W_key\n",
        "values = inputs @ W_value\n",
        "\n",
        "print(\"keys.shape:\", keys.shape)\n",
        "print(\"values.shape:\", values.shape)"
      ]
    },
    {
      "cell_type": "markdown",
      "id": "bac5dfd6-ade8-4e7b-b0c1-bed40aa24481",
      "metadata": {
        "id": "bac5dfd6-ade8-4e7b-b0c1-bed40aa24481"
      },
      "source": [
        "- 그다음 **단계 2**에서 쿼리와 각 키 벡터 사이의 점곱으로 정규화되지 않은 어텐션 점수를  계산합니다."
      ]
    },
    {
      "cell_type": "markdown",
      "id": "8ed0a2b7-5c50-4ede-90cf-7ad74412b3aa",
      "metadata": {
        "id": "8ed0a2b7-5c50-4ede-90cf-7ad74412b3aa"
      },
      "source": [
        "<img src=\"https://sebastianraschka.com/images/LLMs-from-scratch-images/ch03_compressed/15.webp\" width=\"800px\">"
      ]
    },
    {
      "cell_type": "code",
      "execution_count": null,
      "id": "64cbc253-a182-4490-a765-246979ea0a28",
      "metadata": {
        "id": "64cbc253-a182-4490-a765-246979ea0a28",
        "outputId": "45bd3bd5-8000-40e3-9055-7555f92e8b0a"
      },
      "outputs": [
        {
          "name": "stdout",
          "output_type": "stream",
          "text": [
            "tensor(1.8524)\n"
          ]
        }
      ],
      "source": [
        "keys_2 = keys[1] # 파이썬 인덱스는 0부터 시작합니다.\n",
        "attn_score_22 = query_2.dot(keys_2)\n",
        "print(attn_score_22)"
      ]
    },
    {
      "cell_type": "markdown",
      "id": "9e9d15c0-c24e-4e6f-a160-6349b418f935",
      "metadata": {
        "id": "9e9d15c0-c24e-4e6f-a160-6349b418f935"
      },
      "source": [
        "- 여섯 개의 입력이 있으므로 쿼리 벡터에 대해 여섯 개의 어텐션 점수가 만들어집니다."
      ]
    },
    {
      "cell_type": "code",
      "execution_count": null,
      "id": "b14e44b5-d170-40f9-8847-8990804af26d",
      "metadata": {
        "id": "b14e44b5-d170-40f9-8847-8990804af26d",
        "outputId": "00cf930b-c980-4e0a-e227-9f4829022601"
      },
      "outputs": [
        {
          "name": "stdout",
          "output_type": "stream",
          "text": [
            "tensor([1.2705, 1.8524, 1.8111, 1.0795, 0.5577, 1.5440])\n"
          ]
        }
      ],
      "source": [
        "attn_scores_2 = query_2 @ keys.T # 주어진 쿼리에 대한 모든 어텐션 점수\n",
        "print(attn_scores_2)"
      ]
    },
    {
      "cell_type": "markdown",
      "id": "8622cf39-155f-4eb5-a0c0-82a03ce9b999",
      "metadata": {
        "id": "8622cf39-155f-4eb5-a0c0-82a03ce9b999"
      },
      "source": [
        "<img src=\"https://sebastianraschka.com/images/LLMs-from-scratch-images/ch03_compressed/16.webp\" width=\"800px\">"
      ]
    },
    {
      "cell_type": "markdown",
      "id": "e1609edb-f089-461a-8de2-c20c1bb29836",
      "metadata": {
        "id": "e1609edb-f089-461a-8de2-c20c1bb29836"
      },
      "source": [
        "- 그다음 **단계 3**에서 소프트맥스 함수를 사용해 어텐션 가중치(합이 1이 되는 정규화된 어텐션 점수)를 계산합니다.\n",
        "- 이전과 차이점은 임베딩 차원의 제곱근 $\\sqrt{d_k}$(즉, `d_k**0.5`)로 나누어 어텐션 점수의 스케일을 조정하는 것입니다."
      ]
    },
    {
      "cell_type": "code",
      "execution_count": null,
      "id": "146f5587-c845-4e30-9894-c7ed3a248153",
      "metadata": {
        "id": "146f5587-c845-4e30-9894-c7ed3a248153",
        "outputId": "27071d7c-799a-4269-d5d1-3b4e7bbcae81"
      },
      "outputs": [
        {
          "name": "stdout",
          "output_type": "stream",
          "text": [
            "tensor([0.1500, 0.2264, 0.2199, 0.1311, 0.0906, 0.1820])\n"
          ]
        }
      ],
      "source": [
        "d_k = keys.shape[1]\n",
        "attn_weights_2 = torch.softmax(attn_scores_2 / d_k**0.5, dim=-1)\n",
        "print(attn_weights_2)"
      ]
    },
    {
      "cell_type": "markdown",
      "id": "b8f61a28-b103-434a-aee1-ae7cbd821126",
      "metadata": {
        "id": "b8f61a28-b103-434a-aee1-ae7cbd821126"
      },
      "source": [
        "<img src=\"https://sebastianraschka.com/images/LLMs-from-scratch-images/ch03_compressed/17.webp\" width=\"800px\">"
      ]
    },
    {
      "cell_type": "markdown",
      "id": "1890e3f9-db86-4ab8-9f3b-53113504a61f",
      "metadata": {
        "id": "1890e3f9-db86-4ab8-9f3b-53113504a61f"
      },
      "source": [
        "- **단계 4**에서 두 번째 입력 쿼리 벡터에 대한 문맥 벡터를 계산합니다."
      ]
    },
    {
      "cell_type": "code",
      "execution_count": null,
      "id": "e138f033-fa7e-4e3a-8764-b53a96b26397",
      "metadata": {
        "id": "e138f033-fa7e-4e3a-8764-b53a96b26397",
        "outputId": "9061bee9-3b75-4251-cd2c-ae36a02a7951"
      },
      "outputs": [
        {
          "name": "stdout",
          "output_type": "stream",
          "text": [
            "tensor([0.3061, 0.8210])\n"
          ]
        }
      ],
      "source": [
        "context_vec_2 = attn_weights_2 @ values\n",
        "print(context_vec_2)"
      ]
    },
    {
      "cell_type": "markdown",
      "id": "9d7b2907-e448-473e-b46c-77735a7281d8",
      "metadata": {
        "id": "9d7b2907-e448-473e-b46c-77735a7281d8"
      },
      "source": [
        "### 3.4.2 셀프 어텐션 파이썬 클래스 구현하기"
      ]
    },
    {
      "cell_type": "markdown",
      "id": "04313410-3155-4d90-a7a3-2f3386e73677",
      "metadata": {
        "id": "04313410-3155-4d90-a7a3-2f3386e73677"
      },
      "source": [
        "- 이를 모두 합쳐서 셀프 어텐션 메커니즘을 구현합니다."
      ]
    },
    {
      "cell_type": "code",
      "execution_count": null,
      "id": "51590326-cdbe-4e62-93b1-17df71c11ee4",
      "metadata": {
        "id": "51590326-cdbe-4e62-93b1-17df71c11ee4",
        "outputId": "ab2a6691-0b86-40ab-94c3-6b051ab5bb91"
      },
      "outputs": [
        {
          "name": "stdout",
          "output_type": "stream",
          "text": [
            "tensor([[0.2996, 0.8053],\n",
            "        [0.3061, 0.8210],\n",
            "        [0.3058, 0.8203],\n",
            "        [0.2948, 0.7939],\n",
            "        [0.2927, 0.7891],\n",
            "        [0.2990, 0.8040]], grad_fn=<MmBackward0>)\n"
          ]
        }
      ],
      "source": [
        "import torch.nn as nn\n",
        "\n",
        "class SelfAttention_v1(nn.Module):\n",
        "\n",
        "    def __init__(self, d_in, d_out):\n",
        "        super().__init__()\n",
        "        self.W_query = nn.Parameter(torch.rand(d_in, d_out))\n",
        "        self.W_key   = nn.Parameter(torch.rand(d_in, d_out))\n",
        "        self.W_value = nn.Parameter(torch.rand(d_in, d_out))\n",
        "\n",
        "    def forward(self, x):\n",
        "        keys = x @ self.W_key\n",
        "        queries = x @ self.W_query\n",
        "        values = x @ self.W_value\n",
        "\n",
        "        attn_scores = queries @ keys.T # omega\n",
        "        attn_weights = torch.softmax(\n",
        "            attn_scores / keys.shape[-1]**0.5, dim=-1\n",
        "        )\n",
        "\n",
        "        context_vec = attn_weights @ values\n",
        "        return context_vec\n",
        "\n",
        "torch.manual_seed(123)\n",
        "sa_v1 = SelfAttention_v1(d_in, d_out)\n",
        "print(sa_v1(inputs))"
      ]
    },
    {
      "cell_type": "markdown",
      "id": "7ee1a024-84a5-425a-9567-54ab4e4ed445",
      "metadata": {
        "id": "7ee1a024-84a5-425a-9567-54ab4e4ed445"
      },
      "source": [
        "<img src=\"https://sebastianraschka.com/images/LLMs-from-scratch-images/ch03_compressed/18.webp\" width=\"700px\">"
      ]
    },
    {
      "cell_type": "markdown",
      "id": "048e0c16-d911-4ec8-b0bc-45ceec75c081",
      "metadata": {
        "id": "048e0c16-d911-4ec8-b0bc-45ceec75c081"
      },
      "source": [
        "- 이 구현을 행렬 곱셈과 동등한 연산을 수행하는 편향 유닛이 없는 파이토치 Linear 층을 사용해 간소화할 수 있습니다.\n",
        "- `nn.Parameter(torch.rand(...)` 대신에 `nn.Linear`를 사용하는 또 다른 큰 장점은 `nn.Linear`는 안정적으로 모델을 훈련하는데 도움이 되는 가중치 초기화를 제공한다는 것입니다."
      ]
    },
    {
      "cell_type": "code",
      "execution_count": null,
      "id": "73f411e3-e231-464a-89fe-0a9035e5f839",
      "metadata": {
        "id": "73f411e3-e231-464a-89fe-0a9035e5f839",
        "outputId": "47a6a426-bd45-423e-be8f-5072dd951f00"
      },
      "outputs": [
        {
          "name": "stdout",
          "output_type": "stream",
          "text": [
            "tensor([[-0.0739,  0.0713],\n",
            "        [-0.0748,  0.0703],\n",
            "        [-0.0749,  0.0702],\n",
            "        [-0.0760,  0.0685],\n",
            "        [-0.0763,  0.0679],\n",
            "        [-0.0754,  0.0693]], grad_fn=<MmBackward0>)\n"
          ]
        }
      ],
      "source": [
        "class SelfAttention_v2(nn.Module):\n",
        "\n",
        "    def __init__(self, d_in, d_out, qkv_bias=False):\n",
        "        super().__init__()\n",
        "        self.W_query = nn.Linear(d_in, d_out, bias=qkv_bias)\n",
        "        self.W_key   = nn.Linear(d_in, d_out, bias=qkv_bias)\n",
        "        self.W_value = nn.Linear(d_in, d_out, bias=qkv_bias)\n",
        "\n",
        "    def forward(self, x):\n",
        "        keys = self.W_key(x)\n",
        "        queries = self.W_query(x)\n",
        "        values = self.W_value(x)\n",
        "\n",
        "        attn_scores = queries @ keys.T\n",
        "        attn_weights = torch.softmax(attn_scores / keys.shape[-1]**0.5, dim=-1)\n",
        "\n",
        "        context_vec = attn_weights @ values\n",
        "        return context_vec\n",
        "\n",
        "torch.manual_seed(789)\n",
        "sa_v2 = SelfAttention_v2(d_in, d_out)\n",
        "print(sa_v2(inputs))"
      ]
    },
    {
      "cell_type": "markdown",
      "id": "915cd8a5-a895-42c9-8b8e-06b5ae19ffce",
      "metadata": {
        "id": "915cd8a5-a895-42c9-8b8e-06b5ae19ffce"
      },
      "source": [
        "- 가중치 행렬 초깃값이 다르기 때문에 `SelfAttention_v1`와 `SelfAttention_v2`의 출력이 다릅니다."
      ]
    },
    {
      "cell_type": "markdown",
      "id": "c5025b37-0f2c-4a67-a7cb-1286af7026ab",
      "metadata": {
        "id": "c5025b37-0f2c-4a67-a7cb-1286af7026ab"
      },
      "source": [
        "## 3.5 코잘 어텐션으로 미래의 단어를 감추기"
      ]
    },
    {
      "cell_type": "markdown",
      "id": "aef0a6b8-205a-45bf-9d26-8fd77a8a03c3",
      "metadata": {
        "id": "aef0a6b8-205a-45bf-9d26-8fd77a8a03c3"
      },
      "source": [
        "- 코잘 어텐션에서 주대각선 위의 어텐션 가중치를 마스크하여 주어진 입력에 대해 어텐션 가중치로 문맥 벡터를 계산하는 동안 미래 토큰을 엿볼수 없게 합니다."
      ]
    },
    {
      "cell_type": "markdown",
      "id": "71e91bb5-5aae-4f05-8a95-973b3f988a35",
      "metadata": {
        "id": "71e91bb5-5aae-4f05-8a95-973b3f988a35"
      },
      "source": [
        "<img src=\"https://sebastianraschka.com/images/LLMs-from-scratch-images/ch03_compressed/19.webp\" width=\"700px\">"
      ]
    },
    {
      "cell_type": "markdown",
      "id": "82f405de-cd86-4e72-8f3c-9ea0354946ba",
      "metadata": {
        "id": "82f405de-cd86-4e72-8f3c-9ea0354946ba"
      },
      "source": [
        "### 3.5.1 코잘 어텐션 마스크 적용하기"
      ]
    },
    {
      "cell_type": "markdown",
      "id": "014f28d0-8218-48e4-8b9c-bdc5ce489218",
      "metadata": {
        "id": "014f28d0-8218-48e4-8b9c-bdc5ce489218"
      },
      "source": [
        "- 이 절에서 이전의 셀프 어텐션 메커니즘을 코잘 셀프 어텐션 메커니즘으로 변환합니다.\n",
        "- 코잘 셀프 어텐션은 시퀀스의 특정 위치에서 모델의 예측이 미래 위치가 아니라 이전 위치의 출력에만 의존합니다.\n",
        "- 간단히 말해서 다음 단어 예측은 이전 단어에만 의존해야 합니다.\n",
        "- 이를 위해 주어진 토큰에 대해서 미래 토큰(입력 텍스트에서 현재 토큰 다음에 등장하는 토큰)을 마스킹합니다."
      ]
    },
    {
      "cell_type": "markdown",
      "id": "57f99af3-32bc-48f5-8eb4-63504670ca0a",
      "metadata": {
        "id": "57f99af3-32bc-48f5-8eb4-63504670ca0a"
      },
      "source": [
        "<img src=\"https://sebastianraschka.com/images/LLMs-from-scratch-images/ch03_compressed/20.webp\" width=\"800px\">"
      ]
    },
    {
      "cell_type": "markdown",
      "id": "cbfaec7a-68f2-4157-a4b5-2aeceed199d9",
      "metadata": {
        "id": "cbfaec7a-68f2-4157-a4b5-2aeceed199d9"
      },
      "source": [
        "- 코잘 셀프 어텐션을 구현하기 위해 이전 절에서 만든 어텐션 점수와 가중치를 사용합니다."
      ]
    },
    {
      "cell_type": "code",
      "execution_count": null,
      "id": "1933940d-0fa5-4b17-a3ce-388e5314a1bb",
      "metadata": {
        "id": "1933940d-0fa5-4b17-a3ce-388e5314a1bb",
        "outputId": "4b8cd682-80c3-431f-a0d7-3203a295806c"
      },
      "outputs": [
        {
          "name": "stdout",
          "output_type": "stream",
          "text": [
            "tensor([[0.1921, 0.1646, 0.1652, 0.1550, 0.1721, 0.1510],\n",
            "        [0.2041, 0.1659, 0.1662, 0.1496, 0.1665, 0.1477],\n",
            "        [0.2036, 0.1659, 0.1662, 0.1498, 0.1664, 0.1480],\n",
            "        [0.1869, 0.1667, 0.1668, 0.1571, 0.1661, 0.1564],\n",
            "        [0.1830, 0.1669, 0.1670, 0.1588, 0.1658, 0.1585],\n",
            "        [0.1935, 0.1663, 0.1666, 0.1542, 0.1666, 0.1529]],\n",
            "       grad_fn=<SoftmaxBackward0>)\n"
          ]
        }
      ],
      "source": [
        "# 편의상 이전 절에서 만든 SelfAttention_v2 객체의 쿼리와 키 가중치 행렬을 재사용합니다.\n",
        "queries = sa_v2.W_query(inputs)\n",
        "keys = sa_v2.W_key(inputs)\n",
        "attn_scores = queries @ keys.T\n",
        "\n",
        "attn_weights = torch.softmax(attn_scores / keys.shape[-1]**0.5, dim=-1)\n",
        "print(attn_weights)"
      ]
    },
    {
      "cell_type": "markdown",
      "id": "89020a96-b34d-41f8-9349-98c3e23fd5d6",
      "metadata": {
        "id": "89020a96-b34d-41f8-9349-98c3e23fd5d6"
      },
      "source": [
        "- 미래 어텐션 가중치를 마스킹하는 가장 간단한 방법은 파이토치 tril 함수로 주대각선과 그 아래의 원소는 1, 주대각선 위의 원소는 0인 마스크를 만드는 것입니다."
      ]
    },
    {
      "cell_type": "code",
      "execution_count": null,
      "id": "43f3d2e3-185b-4184-9f98-edde5e6df746",
      "metadata": {
        "id": "43f3d2e3-185b-4184-9f98-edde5e6df746",
        "outputId": "1703395e-2865-4099-916b-5bae1b1949ec"
      },
      "outputs": [
        {
          "name": "stdout",
          "output_type": "stream",
          "text": [
            "tensor([[1., 0., 0., 0., 0., 0.],\n",
            "        [1., 1., 0., 0., 0., 0.],\n",
            "        [1., 1., 1., 0., 0., 0.],\n",
            "        [1., 1., 1., 1., 0., 0.],\n",
            "        [1., 1., 1., 1., 1., 0.],\n",
            "        [1., 1., 1., 1., 1., 1.]])\n"
          ]
        }
      ],
      "source": [
        "context_length = attn_scores.shape[0]\n",
        "mask_simple = torch.tril(torch.ones(context_length, context_length))\n",
        "print(mask_simple)"
      ]
    },
    {
      "cell_type": "markdown",
      "id": "efce2b08-3583-44da-b3fc-cabdd38761f6",
      "metadata": {
        "id": "efce2b08-3583-44da-b3fc-cabdd38761f6"
      },
      "source": [
        "- 그다음 어텐션 가중치와 이 마스크를 곱해서 주대각선 위의 어텐션 점수를 0으로 만듭니다."
      ]
    },
    {
      "cell_type": "code",
      "execution_count": null,
      "id": "9f531e2e-f4d2-4fea-a87f-4c132e48b9e7",
      "metadata": {
        "id": "9f531e2e-f4d2-4fea-a87f-4c132e48b9e7",
        "outputId": "79d0a526-ec8b-4656-91d0-7baec6c35392"
      },
      "outputs": [
        {
          "name": "stdout",
          "output_type": "stream",
          "text": [
            "tensor([[0.1921, 0.0000, 0.0000, 0.0000, 0.0000, 0.0000],\n",
            "        [0.2041, 0.1659, 0.0000, 0.0000, 0.0000, 0.0000],\n",
            "        [0.2036, 0.1659, 0.1662, 0.0000, 0.0000, 0.0000],\n",
            "        [0.1869, 0.1667, 0.1668, 0.1571, 0.0000, 0.0000],\n",
            "        [0.1830, 0.1669, 0.1670, 0.1588, 0.1658, 0.0000],\n",
            "        [0.1935, 0.1663, 0.1666, 0.1542, 0.1666, 0.1529]],\n",
            "       grad_fn=<MulBackward0>)\n"
          ]
        }
      ],
      "source": [
        "masked_simple = attn_weights*mask_simple\n",
        "print(masked_simple)"
      ]
    },
    {
      "cell_type": "markdown",
      "id": "3eb35787-cf12-4024-b66d-e7215e175500",
      "metadata": {
        "id": "3eb35787-cf12-4024-b66d-e7215e175500"
      },
      "source": [
        "- 하지만 마스크를 소프트맥스 이후에 적용하면 소프트맥스로 만든 확률 분포가 어그러집니다.\n",
        "- 소프트맥스는 모든 출력 값의 1이 되도록 만듭니다.\n",
        "- 소프트맥스 이후에 마스킹을 하려면 출력이 1이 되도록 다시 재정규화해야 합니다. 과정이 복잡하고 원치 않는 부수효과가 생길 수 있습니다."
      ]
    },
    {
      "cell_type": "markdown",
      "id": "94db92d7-c397-4e42-bd8a-6a2b3e237e0f",
      "metadata": {
        "id": "94db92d7-c397-4e42-bd8a-6a2b3e237e0f"
      },
      "source": [
        "- 각 행의 합이 1이 되도록 만들기 위해 어텐션 가중치를 다음과 같이 정규화할 수 있습니다."
      ]
    },
    {
      "cell_type": "code",
      "execution_count": null,
      "id": "6d392083-fd81-4f70-9bdf-8db985e673d6",
      "metadata": {
        "id": "6d392083-fd81-4f70-9bdf-8db985e673d6",
        "outputId": "674fec49-5e6b-4cd9-efe4-c456a8027d9c"
      },
      "outputs": [
        {
          "name": "stdout",
          "output_type": "stream",
          "text": [
            "tensor([[1.0000, 0.0000, 0.0000, 0.0000, 0.0000, 0.0000],\n",
            "        [0.5517, 0.4483, 0.0000, 0.0000, 0.0000, 0.0000],\n",
            "        [0.3800, 0.3097, 0.3103, 0.0000, 0.0000, 0.0000],\n",
            "        [0.2758, 0.2460, 0.2462, 0.2319, 0.0000, 0.0000],\n",
            "        [0.2175, 0.1983, 0.1984, 0.1888, 0.1971, 0.0000],\n",
            "        [0.1935, 0.1663, 0.1666, 0.1542, 0.1666, 0.1529]],\n",
            "       grad_fn=<DivBackward0>)\n"
          ]
        }
      ],
      "source": [
        "row_sums = masked_simple.sum(dim=-1, keepdim=True)\n",
        "masked_simple_norm = masked_simple / row_sums\n",
        "print(masked_simple_norm)"
      ]
    },
    {
      "cell_type": "markdown",
      "id": "512e7cf4-dc0e-4cec-948e-c7a3c4eb6877",
      "metadata": {
        "id": "512e7cf4-dc0e-4cec-948e-c7a3c4eb6877"
      },
      "source": [
        "- 기술적으로는 코잘 어텐션 메커니즘의 구현이 완료되었지만 동일한 구현을 더 효율적으로 만들 수 있는지 잠시 살펴 보죠.\n",
        "- 주대각선 위의 어텐션 가중치를 0으로 만들고 그 결과를 다시 재정규화하는 대신에 소프트맥스 함수에 들어가기 전에 정규화되지 않은 어텐션 점수를 음의 무한대로 마스킹할 수 있습니다."
      ]
    },
    {
      "cell_type": "markdown",
      "id": "eb682900-8df2-4767-946c-a82bee260188",
      "metadata": {
        "id": "eb682900-8df2-4767-946c-a82bee260188"
      },
      "source": [
        "<img src=\"https://sebastianraschka.com/images/LLMs-from-scratch-images/ch03_compressed/21.webp\" width=\"600px\">"
      ]
    },
    {
      "cell_type": "code",
      "execution_count": null,
      "id": "a2be2f43-9cf0-44f6-8d8b-68ef2fb3cc39",
      "metadata": {
        "id": "a2be2f43-9cf0-44f6-8d8b-68ef2fb3cc39",
        "outputId": "8aa3975c-c887-4921-c1af-71474501a8a3"
      },
      "outputs": [
        {
          "name": "stdout",
          "output_type": "stream",
          "text": [
            "tensor([[0.2899,   -inf,   -inf,   -inf,   -inf,   -inf],\n",
            "        [0.4656, 0.1723,   -inf,   -inf,   -inf,   -inf],\n",
            "        [0.4594, 0.1703, 0.1731,   -inf,   -inf,   -inf],\n",
            "        [0.2642, 0.1024, 0.1036, 0.0186,   -inf,   -inf],\n",
            "        [0.2183, 0.0874, 0.0882, 0.0177, 0.0786,   -inf],\n",
            "        [0.3408, 0.1270, 0.1290, 0.0198, 0.1290, 0.0078]],\n",
            "       grad_fn=<MaskedFillBackward0>)\n"
          ]
        }
      ],
      "source": [
        "mask = torch.triu(torch.ones(context_length, context_length), diagonal=1)\n",
        "masked = attn_scores.masked_fill(mask.bool(), -torch.inf)\n",
        "print(masked)"
      ]
    },
    {
      "cell_type": "markdown",
      "id": "91d5f803-d735-4543-b9da-00ac10fb9c50",
      "metadata": {
        "id": "91d5f803-d735-4543-b9da-00ac10fb9c50"
      },
      "source": [
        "- 아래에서 보듯이 각 행의 어텐션 가중치 합이 1이 됩니다."
      ]
    },
    {
      "cell_type": "code",
      "execution_count": null,
      "id": "b1cd6d7f-16f2-43c1-915e-0824f1a4bc52",
      "metadata": {
        "id": "b1cd6d7f-16f2-43c1-915e-0824f1a4bc52",
        "outputId": "95a7150e-963f-4a09-f656-0b38a730d6d5"
      },
      "outputs": [
        {
          "name": "stdout",
          "output_type": "stream",
          "text": [
            "tensor([[1.0000, 0.0000, 0.0000, 0.0000, 0.0000, 0.0000],\n",
            "        [0.5517, 0.4483, 0.0000, 0.0000, 0.0000, 0.0000],\n",
            "        [0.3800, 0.3097, 0.3103, 0.0000, 0.0000, 0.0000],\n",
            "        [0.2758, 0.2460, 0.2462, 0.2319, 0.0000, 0.0000],\n",
            "        [0.2175, 0.1983, 0.1984, 0.1888, 0.1971, 0.0000],\n",
            "        [0.1935, 0.1663, 0.1666, 0.1542, 0.1666, 0.1529]],\n",
            "       grad_fn=<SoftmaxBackward0>)\n"
          ]
        }
      ],
      "source": [
        "attn_weights = torch.softmax(masked / keys.shape[-1]**0.5, dim=-1)\n",
        "print(attn_weights)"
      ]
    },
    {
      "cell_type": "markdown",
      "id": "7636fc5f-6bc6-461e-ac6a-99ec8e3c0912",
      "metadata": {
        "id": "7636fc5f-6bc6-461e-ac6a-99ec8e3c0912"
      },
      "source": [
        "### 3.5.2 드롭아웃으로 어텐션 가중치에 추가적으로 마스킹하기"
      ]
    },
    {
      "cell_type": "markdown",
      "id": "ec3dc7ee-6539-4fab-804a-8f31a890c85a",
      "metadata": {
        "id": "ec3dc7ee-6539-4fab-804a-8f31a890c85a"
      },
      "source": [
        "- 또한 훈련 과정에서 과대적합을 줄이기 위해 드롭아웃을 적용합니다.\n",
        "- 드롭아웃을 여러 곳에 적용할 수 있습니다.\n",
        "    - 예를 들어 어텐션 가중치를 계산한 후\n",
        "    - 또는 어텐션 가중치와 값 벡터를 곱한 후\n",
        "- 여기에서는 일반적인 방식을 따라 어텐션 가중치를 계산한 후 드롭아웃 마스크를 적용하겠습니다.\n",
        "- 이 예시에서는 드롭아웃 비율을 50%으로 지정합니다. 어텐션 가중치의 절반을 랜덤하게 마스킹한다는 의미입니다. (나중에 GPT 모델을 훈련할 때는 0.1이나 0.2 정도의 낮은 드롭아웃 비율을 사용하겠습니다)"
      ]
    },
    {
      "cell_type": "markdown",
      "id": "ee799cf6-6175-45f2-827e-c174afedb722",
      "metadata": {
        "id": "ee799cf6-6175-45f2-827e-c174afedb722"
      },
      "source": [
        "<img src=\"https://sebastianraschka.com/images/LLMs-from-scratch-images/ch03_compressed/22.webp\" width=\"600px\">"
      ]
    },
    {
      "cell_type": "markdown",
      "id": "5a575458-a6da-4e54-8688-83e155f2de06",
      "metadata": {
        "id": "5a575458-a6da-4e54-8688-83e155f2de06"
      },
      "source": [
        "- 드롭아웃 비율 0.5(50%)를 적용하면 드롭아웃되지 않은 값은 1/0.5=2배 만큼 크기가 증가할 것입니다.\n",
        "- 스케일 조정 배율은 1 / (1 - `dropout_rate`)와 같이 계산합니다."
      ]
    },
    {
      "cell_type": "code",
      "execution_count": null,
      "id": "0de578db-8289-41d6-b377-ef645751e33f",
      "metadata": {
        "id": "0de578db-8289-41d6-b377-ef645751e33f",
        "outputId": "e5f6b60a-03d5-4244-a12f-22826765d723"
      },
      "outputs": [
        {
          "name": "stdout",
          "output_type": "stream",
          "text": [
            "tensor([[2., 2., 0., 2., 2., 0.],\n",
            "        [0., 0., 0., 2., 0., 2.],\n",
            "        [2., 2., 2., 2., 0., 2.],\n",
            "        [0., 2., 2., 0., 0., 2.],\n",
            "        [0., 2., 0., 2., 0., 2.],\n",
            "        [0., 2., 2., 2., 2., 0.]])\n"
          ]
        }
      ],
      "source": [
        "torch.manual_seed(123)\n",
        "dropout = torch.nn.Dropout(0.5) # 50% 드롭아웃 비율\n",
        "example = torch.ones(6, 6) # 1로 채워진 행렬을 만듭니다.\n",
        "\n",
        "print(dropout(example))"
      ]
    },
    {
      "cell_type": "code",
      "execution_count": null,
      "id": "b16c5edb-942b-458c-8e95-25e4e355381e",
      "metadata": {
        "id": "b16c5edb-942b-458c-8e95-25e4e355381e",
        "outputId": "ae1cd1ab-6575-45fb-e8bd-f30d1ec64d90"
      },
      "outputs": [
        {
          "name": "stdout",
          "output_type": "stream",
          "text": [
            "tensor([[2.0000, 0.0000, 0.0000, 0.0000, 0.0000, 0.0000],\n",
            "        [0.0000, 0.0000, 0.0000, 0.0000, 0.0000, 0.0000],\n",
            "        [0.7599, 0.6194, 0.6206, 0.0000, 0.0000, 0.0000],\n",
            "        [0.0000, 0.4921, 0.4925, 0.0000, 0.0000, 0.0000],\n",
            "        [0.0000, 0.3966, 0.0000, 0.3775, 0.0000, 0.0000],\n",
            "        [0.0000, 0.3327, 0.3331, 0.3084, 0.3331, 0.0000]],\n",
            "       grad_fn=<MulBackward0>)\n"
          ]
        }
      ],
      "source": [
        "torch.manual_seed(123)\n",
        "print(dropout(attn_weights))"
      ]
    },
    {
      "cell_type": "markdown",
      "id": "269df5c8-3e25-49d0-95d3-bb232287404f",
      "metadata": {
        "id": "269df5c8-3e25-49d0-95d3-bb232287404f"
      },
      "source": [
        "- Note that the resulting dropout outputs may look different depending on your operating system; you can read more about this inconsistency [here on the PyTorch issue tracker](https://github.com/pytorch/pytorch/issues/121595)"
      ]
    },
    {
      "cell_type": "markdown",
      "id": "cdc14639-5f0f-4840-aa9d-8eb36ea90fb7",
      "metadata": {
        "id": "cdc14639-5f0f-4840-aa9d-8eb36ea90fb7"
      },
      "source": [
        "### 3.5.3 Implementing a compact causal self-attention class"
      ]
    },
    {
      "cell_type": "markdown",
      "id": "09c41d29-1933-43dc-ada6-2dbb56287204",
      "metadata": {
        "id": "09c41d29-1933-43dc-ada6-2dbb56287204"
      },
      "source": [
        "- Now, we are ready to implement a working implementation of self-attention, including the causal and dropout masks\n",
        "- One more thing is to implement the code to handle batches consisting of more than one input so that our `CausalAttention` class supports the batch outputs produced by the data loader we implemented in chapter 2\n",
        "- For simplicity, to simulate such batch input, we duplicate the input text example:"
      ]
    },
    {
      "cell_type": "code",
      "execution_count": null,
      "id": "977a5fa7-a9d5-4e2e-8a32-8e0331ccfe28",
      "metadata": {
        "id": "977a5fa7-a9d5-4e2e-8a32-8e0331ccfe28",
        "outputId": "69284120-e0e2-4905-93b2-e75a800a5bdf"
      },
      "outputs": [
        {
          "name": "stdout",
          "output_type": "stream",
          "text": [
            "torch.Size([2, 6, 3])\n"
          ]
        }
      ],
      "source": [
        "batch = torch.stack((inputs, inputs), dim=0)\n",
        "print(batch.shape) # 2 inputs with 6 tokens each, and each token has embedding dimension 3"
      ]
    },
    {
      "cell_type": "code",
      "execution_count": null,
      "id": "60d8c2eb-2d8e-4d2c-99bc-9eef8cc53ca0",
      "metadata": {
        "id": "60d8c2eb-2d8e-4d2c-99bc-9eef8cc53ca0",
        "outputId": "c4c1dc79-9019-4d8b-f91f-2a601d008870"
      },
      "outputs": [
        {
          "name": "stdout",
          "output_type": "stream",
          "text": [
            "tensor([[[-0.4519,  0.2216],\n",
            "         [-0.5874,  0.0058],\n",
            "         [-0.6300, -0.0632],\n",
            "         [-0.5675, -0.0843],\n",
            "         [-0.5526, -0.0981],\n",
            "         [-0.5299, -0.1081]],\n",
            "\n",
            "        [[-0.4519,  0.2216],\n",
            "         [-0.5874,  0.0058],\n",
            "         [-0.6300, -0.0632],\n",
            "         [-0.5675, -0.0843],\n",
            "         [-0.5526, -0.0981],\n",
            "         [-0.5299, -0.1081]]], grad_fn=<UnsafeViewBackward0>)\n",
            "context_vecs.shape: torch.Size([2, 6, 2])\n"
          ]
        }
      ],
      "source": [
        "class CausalAttention(nn.Module):\n",
        "\n",
        "    def __init__(self, d_in, d_out, context_length,\n",
        "                 dropout, qkv_bias=False):\n",
        "        super().__init__()\n",
        "        self.d_out = d_out\n",
        "        self.W_query = nn.Linear(d_in, d_out, bias=qkv_bias)\n",
        "        self.W_key   = nn.Linear(d_in, d_out, bias=qkv_bias)\n",
        "        self.W_value = nn.Linear(d_in, d_out, bias=qkv_bias)\n",
        "        self.dropout = nn.Dropout(dropout) # New\n",
        "        self.register_buffer('mask', torch.triu(torch.ones(context_length, context_length), diagonal=1)) # New\n",
        "\n",
        "    def forward(self, x):\n",
        "        b, num_tokens, d_in = x.shape # New batch dimension b\n",
        "        # For inputs where `num_tokens` exceeds `context_length`, this will result in errors\n",
        "        # in the mask creation further below.\n",
        "        # In practice, this is not a problem since the LLM (chapters 4-7) ensures that inputs\n",
        "        # do not exceed `context_length` before reaching this forward method.\n",
        "        keys = self.W_key(x)\n",
        "        queries = self.W_query(x)\n",
        "        values = self.W_value(x)\n",
        "\n",
        "        attn_scores = queries @ keys.transpose(1, 2) # Changed transpose\n",
        "        attn_scores.masked_fill_(  # New, _ ops are in-place\n",
        "            self.mask.bool()[:num_tokens, :num_tokens], -torch.inf)  # `:num_tokens` to account for cases where the number of tokens in the batch is smaller than the supported context_size\n",
        "        attn_weights = torch.softmax(\n",
        "            attn_scores / keys.shape[-1]**0.5, dim=-1\n",
        "        )\n",
        "        attn_weights = self.dropout(attn_weights) # New\n",
        "\n",
        "        context_vec = attn_weights @ values\n",
        "        return context_vec\n",
        "\n",
        "torch.manual_seed(123)\n",
        "\n",
        "context_length = batch.shape[1]\n",
        "ca = CausalAttention(d_in, d_out, context_length, 0.0)\n",
        "\n",
        "context_vecs = ca(batch)\n",
        "\n",
        "print(context_vecs)\n",
        "print(\"context_vecs.shape:\", context_vecs.shape)"
      ]
    },
    {
      "cell_type": "markdown",
      "id": "c4333d12-17e4-4bb5-9d83-54b3a32618cd",
      "metadata": {
        "id": "c4333d12-17e4-4bb5-9d83-54b3a32618cd"
      },
      "source": [
        "- Note that dropout is only applied during training, not during inference"
      ]
    },
    {
      "cell_type": "markdown",
      "id": "a554cf47-558c-4f45-84cd-bf9b839a8d50",
      "metadata": {
        "id": "a554cf47-558c-4f45-84cd-bf9b839a8d50"
      },
      "source": [
        "<img src=\"https://sebastianraschka.com/images/LLMs-from-scratch-images/ch03_compressed/23.webp\" width=\"500px\">"
      ]
    },
    {
      "cell_type": "markdown",
      "id": "c8bef90f-cfd4-4289-b0e8-6a00dc9be44c",
      "metadata": {
        "id": "c8bef90f-cfd4-4289-b0e8-6a00dc9be44c"
      },
      "source": [
        "## 3.6 Extending single-head attention to multi-head attention"
      ]
    },
    {
      "cell_type": "markdown",
      "id": "11697757-9198-4a1c-9cee-f450d8bbd3b9",
      "metadata": {
        "id": "11697757-9198-4a1c-9cee-f450d8bbd3b9"
      },
      "source": [
        "### 3.6.1 Stacking multiple single-head attention layers"
      ]
    },
    {
      "cell_type": "markdown",
      "id": "70766faf-cd53-41d9-8a17-f1b229756a5a",
      "metadata": {
        "id": "70766faf-cd53-41d9-8a17-f1b229756a5a"
      },
      "source": [
        "- Below is a summary of the self-attention implemented previously (causal and dropout masks not shown for simplicity)\n",
        "\n",
        "- This is also called single-head attention:\n",
        "\n",
        "<img src=\"https://sebastianraschka.com/images/LLMs-from-scratch-images/ch03_compressed/24.webp\" width=\"400px\">\n",
        "\n",
        "- We simply stack multiple single-head attention modules to obtain a multi-head attention module:\n",
        "\n",
        "<img src=\"https://sebastianraschka.com/images/LLMs-from-scratch-images/ch03_compressed/25.webp\" width=\"400px\">\n",
        "\n",
        "- The main idea behind multi-head attention is to run the attention mechanism multiple times (in parallel) with different, learned linear projections. This allows the model to jointly attend to information from different representation subspaces at different positions."
      ]
    },
    {
      "cell_type": "code",
      "execution_count": null,
      "id": "b9a66e11-7105-4bb4-be84-041f1a1f3bd2",
      "metadata": {
        "id": "b9a66e11-7105-4bb4-be84-041f1a1f3bd2",
        "outputId": "f616f795-f423-4a60-c5bd-37b2c3e643b8"
      },
      "outputs": [
        {
          "name": "stdout",
          "output_type": "stream",
          "text": [
            "tensor([[[-0.4519,  0.2216,  0.4772,  0.1063],\n",
            "         [-0.5874,  0.0058,  0.5891,  0.3257],\n",
            "         [-0.6300, -0.0632,  0.6202,  0.3860],\n",
            "         [-0.5675, -0.0843,  0.5478,  0.3589],\n",
            "         [-0.5526, -0.0981,  0.5321,  0.3428],\n",
            "         [-0.5299, -0.1081,  0.5077,  0.3493]],\n",
            "\n",
            "        [[-0.4519,  0.2216,  0.4772,  0.1063],\n",
            "         [-0.5874,  0.0058,  0.5891,  0.3257],\n",
            "         [-0.6300, -0.0632,  0.6202,  0.3860],\n",
            "         [-0.5675, -0.0843,  0.5478,  0.3589],\n",
            "         [-0.5526, -0.0981,  0.5321,  0.3428],\n",
            "         [-0.5299, -0.1081,  0.5077,  0.3493]]], grad_fn=<CatBackward0>)\n",
            "context_vecs.shape: torch.Size([2, 6, 4])\n"
          ]
        }
      ],
      "source": [
        "class MultiHeadAttentionWrapper(nn.Module):\n",
        "\n",
        "    def __init__(self, d_in, d_out, context_length, dropout, num_heads, qkv_bias=False):\n",
        "        super().__init__()\n",
        "        self.heads = nn.ModuleList(\n",
        "            [CausalAttention(d_in, d_out, context_length, dropout, qkv_bias)\n",
        "             for _ in range(num_heads)]\n",
        "        )\n",
        "\n",
        "    def forward(self, x):\n",
        "        return torch.cat([head(x) for head in self.heads], dim=-1)\n",
        "\n",
        "\n",
        "torch.manual_seed(123)\n",
        "\n",
        "context_length = batch.shape[1] # This is the number of tokens\n",
        "d_in, d_out = 3, 2\n",
        "mha = MultiHeadAttentionWrapper(\n",
        "    d_in, d_out, context_length, 0.0, num_heads=2\n",
        ")\n",
        "\n",
        "context_vecs = mha(batch)\n",
        "\n",
        "print(context_vecs)\n",
        "print(\"context_vecs.shape:\", context_vecs.shape)"
      ]
    },
    {
      "cell_type": "markdown",
      "id": "193d3d2b-2578-40ba-b791-ea2d49328e48",
      "metadata": {
        "id": "193d3d2b-2578-40ba-b791-ea2d49328e48"
      },
      "source": [
        "- In the implementation above, the embedding dimension is 4, because we `d_out=2` as the embedding dimension for the key, query, and value vectors as well as the context vector. And since we have 2 attention heads, we have the output embedding dimension 2*2=4"
      ]
    },
    {
      "cell_type": "markdown",
      "id": "6836b5da-ef82-4b4c-bda1-72a462e48d4e",
      "metadata": {
        "id": "6836b5da-ef82-4b4c-bda1-72a462e48d4e"
      },
      "source": [
        "### 3.6.2 Implementing multi-head attention with weight splits"
      ]
    },
    {
      "cell_type": "markdown",
      "id": "f4b48d0d-71ba-4fa0-b714-ca80cabcb6f7",
      "metadata": {
        "id": "f4b48d0d-71ba-4fa0-b714-ca80cabcb6f7"
      },
      "source": [
        "- While the above is an intuitive and fully functional implementation of multi-head attention (wrapping the single-head attention `CausalAttention` implementation from earlier), we can write a stand-alone class called `MultiHeadAttention` to achieve the same\n",
        "\n",
        "- We don't concatenate single attention heads for this stand-alone `MultiHeadAttention` class\n",
        "- Instead, we create single W_query, W_key, and W_value weight matrices and then split those into individual matrices for each attention head:"
      ]
    },
    {
      "cell_type": "code",
      "execution_count": null,
      "id": "110b0188-6e9e-4e56-a988-10523c6c8538",
      "metadata": {
        "id": "110b0188-6e9e-4e56-a988-10523c6c8538",
        "outputId": "25e272a5-0a78-4c7e-9b5d-df80f6f65c1e"
      },
      "outputs": [
        {
          "name": "stdout",
          "output_type": "stream",
          "text": [
            "tensor([[[0.3190, 0.4858],\n",
            "         [0.2943, 0.3897],\n",
            "         [0.2856, 0.3593],\n",
            "         [0.2693, 0.3873],\n",
            "         [0.2639, 0.3928],\n",
            "         [0.2575, 0.4028]],\n",
            "\n",
            "        [[0.3190, 0.4858],\n",
            "         [0.2943, 0.3897],\n",
            "         [0.2856, 0.3593],\n",
            "         [0.2693, 0.3873],\n",
            "         [0.2639, 0.3928],\n",
            "         [0.2575, 0.4028]]], grad_fn=<ViewBackward0>)\n",
            "context_vecs.shape: torch.Size([2, 6, 2])\n"
          ]
        }
      ],
      "source": [
        "class MultiHeadAttention(nn.Module):\n",
        "    def __init__(self, d_in, d_out, context_length, dropout, num_heads, qkv_bias=False):\n",
        "        super().__init__()\n",
        "        assert (d_out % num_heads == 0), \\\n",
        "            \"d_out must be divisible by num_heads\"\n",
        "\n",
        "        self.d_out = d_out\n",
        "        self.num_heads = num_heads\n",
        "        self.head_dim = d_out // num_heads # Reduce the projection dim to match desired output dim\n",
        "\n",
        "        self.W_query = nn.Linear(d_in, d_out, bias=qkv_bias)\n",
        "        self.W_key = nn.Linear(d_in, d_out, bias=qkv_bias)\n",
        "        self.W_value = nn.Linear(d_in, d_out, bias=qkv_bias)\n",
        "        self.out_proj = nn.Linear(d_out, d_out)  # Linear layer to combine head outputs\n",
        "        self.dropout = nn.Dropout(dropout)\n",
        "        self.register_buffer(\n",
        "            \"mask\",\n",
        "            torch.triu(torch.ones(context_length, context_length),\n",
        "                       diagonal=1)\n",
        "        )\n",
        "\n",
        "    def forward(self, x):\n",
        "        b, num_tokens, d_in = x.shape\n",
        "        # As in `CausalAttention`, for inputs where `num_tokens` exceeds `context_length`,\n",
        "        # this will result in errors in the mask creation further below.\n",
        "        # In practice, this is not a problem since the LLM (chapters 4-7) ensures that inputs\n",
        "        # do not exceed `context_length` before reaching this forwar\n",
        "\n",
        "        keys = self.W_key(x) # Shape: (b, num_tokens, d_out)\n",
        "        queries = self.W_query(x)\n",
        "        values = self.W_value(x)\n",
        "\n",
        "        # We implicitly split the matrix by adding a `num_heads` dimension\n",
        "        # Unroll last dim: (b, num_tokens, d_out) -> (b, num_tokens, num_heads, head_dim)\n",
        "        keys = keys.view(b, num_tokens, self.num_heads, self.head_dim)\n",
        "        values = values.view(b, num_tokens, self.num_heads, self.head_dim)\n",
        "        queries = queries.view(b, num_tokens, self.num_heads, self.head_dim)\n",
        "\n",
        "        # Transpose: (b, num_tokens, num_heads, head_dim) -> (b, num_heads, num_tokens, head_dim)\n",
        "        keys = keys.transpose(1, 2)\n",
        "        queries = queries.transpose(1, 2)\n",
        "        values = values.transpose(1, 2)\n",
        "\n",
        "        # Compute scaled dot-product attention (aka self-attention) with a causal mask\n",
        "        attn_scores = queries @ keys.transpose(2, 3)  # Dot product for each head\n",
        "\n",
        "        # Original mask truncated to the number of tokens and converted to boolean\n",
        "        mask_bool = self.mask.bool()[:num_tokens, :num_tokens]\n",
        "\n",
        "        # Use the mask to fill attention scores\n",
        "        attn_scores.masked_fill_(mask_bool, -torch.inf)\n",
        "\n",
        "        attn_weights = torch.softmax(attn_scores / keys.shape[-1]**0.5, dim=-1)\n",
        "        attn_weights = self.dropout(attn_weights)\n",
        "\n",
        "        # Shape: (b, num_tokens, num_heads, head_dim)\n",
        "        context_vec = (attn_weights @ values).transpose(1, 2)\n",
        "\n",
        "        # Combine heads, where self.d_out = self.num_heads * self.head_dim\n",
        "        context_vec = context_vec.contiguous().view(b, num_tokens, self.d_out)\n",
        "        context_vec = self.out_proj(context_vec) # optional projection\n",
        "\n",
        "        return context_vec\n",
        "\n",
        "torch.manual_seed(123)\n",
        "\n",
        "batch_size, context_length, d_in = batch.shape\n",
        "d_out = 2\n",
        "mha = MultiHeadAttention(d_in, d_out, context_length, 0.0, num_heads=2)\n",
        "\n",
        "context_vecs = mha(batch)\n",
        "\n",
        "print(context_vecs)\n",
        "print(\"context_vecs.shape:\", context_vecs.shape)"
      ]
    },
    {
      "cell_type": "markdown",
      "id": "d334dfb5-2b6c-4c33-82d5-b4e9db5867bb",
      "metadata": {
        "id": "d334dfb5-2b6c-4c33-82d5-b4e9db5867bb"
      },
      "source": [
        "- Note that the above is essentially a rewritten version of `MultiHeadAttentionWrapper` that is more efficient\n",
        "- The resulting output looks a bit different since the random weight initializations differ, but both are fully functional implementations that can be used in the GPT class we will implement in the upcoming chapters\n",
        "- Note that in addition, we added a linear projection layer (`self.out_proj `) to the `MultiHeadAttention` class above. This is simply a linear transformation that doesn't change the dimensions. It's a standard convention to use such a projection layer in LLM implementation, but it's not strictly necessary (recent research has shown that it can be removed without affecting the modeling performance; see the further reading section at the end of this chapter)\n"
      ]
    },
    {
      "cell_type": "markdown",
      "id": "dbe5d396-c990-45dc-9908-2c621461f851",
      "metadata": {
        "id": "dbe5d396-c990-45dc-9908-2c621461f851"
      },
      "source": [
        "<img src=\"https://sebastianraschka.com/images/LLMs-from-scratch-images/ch03_compressed/26.webp\" width=\"400px\">"
      ]
    },
    {
      "cell_type": "markdown",
      "id": "8b0ed78c-e8ac-4f8f-a479-a98242ae8f65",
      "metadata": {
        "id": "8b0ed78c-e8ac-4f8f-a479-a98242ae8f65"
      },
      "source": [
        "- Note that if you are interested in a compact and efficient implementation of the above, you can also consider the [`torch.nn.MultiheadAttention`](https://pytorch.org/docs/stable/generated/torch.nn.MultiheadAttention.html) class in PyTorch"
      ]
    },
    {
      "cell_type": "markdown",
      "id": "363701ad-2022-46c8-9972-390d2a2b9911",
      "metadata": {
        "id": "363701ad-2022-46c8-9972-390d2a2b9911"
      },
      "source": [
        "- Since the above implementation may look a bit complex at first glance, let's look at what happens when executing `attn_scores = queries @ keys.transpose(2, 3)`:"
      ]
    },
    {
      "cell_type": "code",
      "execution_count": null,
      "id": "e8cfc1ae-78ab-4faa-bc73-98bd054806c9",
      "metadata": {
        "id": "e8cfc1ae-78ab-4faa-bc73-98bd054806c9",
        "outputId": "c1471eab-1a37-4335-d33a-be44f418c3a7"
      },
      "outputs": [
        {
          "name": "stdout",
          "output_type": "stream",
          "text": [
            "tensor([[[[1.3208, 1.1631, 1.2879],\n",
            "          [1.1631, 2.2150, 1.8424],\n",
            "          [1.2879, 1.8424, 2.0402]],\n",
            "\n",
            "         [[0.4391, 0.7003, 0.5903],\n",
            "          [0.7003, 1.3737, 1.0620],\n",
            "          [0.5903, 1.0620, 0.9912]]]])\n"
          ]
        }
      ],
      "source": [
        "# (b, num_heads, num_tokens, head_dim) = (1, 2, 3, 4)\n",
        "a = torch.tensor([[[[0.2745, 0.6584, 0.2775, 0.8573],\n",
        "                    [0.8993, 0.0390, 0.9268, 0.7388],\n",
        "                    [0.7179, 0.7058, 0.9156, 0.4340]],\n",
        "\n",
        "                   [[0.0772, 0.3565, 0.1479, 0.5331],\n",
        "                    [0.4066, 0.2318, 0.4545, 0.9737],\n",
        "                    [0.4606, 0.5159, 0.4220, 0.5786]]]])\n",
        "\n",
        "print(a @ a.transpose(2, 3))"
      ]
    },
    {
      "cell_type": "markdown",
      "id": "0587b946-c8f2-4888-adbf-5a5032fbfd7b",
      "metadata": {
        "id": "0587b946-c8f2-4888-adbf-5a5032fbfd7b"
      },
      "source": [
        "- In this case, the matrix multiplication implementation in PyTorch will handle the 4-dimensional input tensor so that the matrix multiplication is carried out between the 2 last dimensions (num_tokens, head_dim) and then repeated for the individual heads\n",
        "\n",
        "- For instance, the following becomes a more compact way to compute the matrix multiplication for each head separately:"
      ]
    },
    {
      "cell_type": "code",
      "execution_count": null,
      "id": "053760f1-1a02-42f0-b3bf-3d939e407039",
      "metadata": {
        "id": "053760f1-1a02-42f0-b3bf-3d939e407039",
        "outputId": "02e4c4b5-8c92-4792-e399-4eae9b80f875"
      },
      "outputs": [
        {
          "name": "stdout",
          "output_type": "stream",
          "text": [
            "First head:\n",
            " tensor([[1.3208, 1.1631, 1.2879],\n",
            "        [1.1631, 2.2150, 1.8424],\n",
            "        [1.2879, 1.8424, 2.0402]])\n",
            "\n",
            "Second head:\n",
            " tensor([[0.4391, 0.7003, 0.5903],\n",
            "        [0.7003, 1.3737, 1.0620],\n",
            "        [0.5903, 1.0620, 0.9912]])\n"
          ]
        }
      ],
      "source": [
        "first_head = a[0, 0, :, :]\n",
        "first_res = first_head @ first_head.T\n",
        "print(\"First head:\\n\", first_res)\n",
        "\n",
        "second_head = a[0, 1, :, :]\n",
        "second_res = second_head @ second_head.T\n",
        "print(\"\\nSecond head:\\n\", second_res)"
      ]
    },
    {
      "cell_type": "markdown",
      "id": "dec671bf-7938-4304-ad1e-75d9920e7f43",
      "metadata": {
        "id": "dec671bf-7938-4304-ad1e-75d9920e7f43"
      },
      "source": [
        "# Summary and takeaways"
      ]
    },
    {
      "cell_type": "markdown",
      "id": "fa3e4113-ffca-432c-b3ec-7a50bd15da25",
      "metadata": {
        "id": "fa3e4113-ffca-432c-b3ec-7a50bd15da25"
      },
      "source": [
        "- See the [./multihead-attention.ipynb](./multihead-attention.ipynb) code notebook, which is a concise version of the data loader (chapter 2) plus the multi-head attention class that we implemented in this chapter and will need for training the GPT model in upcoming chapters\n",
        "- You can find the exercise solutions in [./exercise-solutions.ipynb](./exercise-solutions.ipynb)"
      ]
    }
  ],
  "metadata": {
    "kernelspec": {
      "display_name": "Python 3 (ipykernel)",
      "language": "python",
      "name": "python3"
    },
    "language_info": {
      "codemirror_mode": {
        "name": "ipython",
        "version": 3
      },
      "file_extension": ".py",
      "mimetype": "text/x-python",
      "name": "python",
      "nbconvert_exporter": "python",
      "pygments_lexer": "ipython3",
      "version": "3.10.16"
    },
    "colab": {
      "provenance": []
    }
  },
  "nbformat": 4,
  "nbformat_minor": 5
}