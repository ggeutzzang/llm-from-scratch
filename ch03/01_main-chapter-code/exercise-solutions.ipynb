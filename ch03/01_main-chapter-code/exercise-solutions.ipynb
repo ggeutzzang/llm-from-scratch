{
  "cells": [
    {
      "cell_type": "markdown",
      "metadata": {
        "id": "view-in-github",
        "colab_type": "text"
      },
      "source": [
        "<a href=\"https://colab.research.google.com/github/rickiepark/llm-from-scratch/blob/main/ch03/01_main-chapter-code/exercise-solutions.ipynb\" target=\"_parent\"><img src=\"https://colab.research.google.com/assets/colab-badge.svg\" alt=\"Open In Colab\"/></a>"
      ]
    },
    {
      "cell_type": "markdown",
      "id": "78224549-3637-44b0-aed1-8ff889c65192",
      "metadata": {
        "id": "78224549-3637-44b0-aed1-8ff889c65192"
      },
      "source": [
        "<table style=\"width:100%\">\n",
        "<tr>\n",
        "<td style=\"vertical-align:middle; text-align:left;\">\n",
        "<font size=\"2\">\n",
        "세바스찬 라시카(Sebastian Raschka)가 쓴 <a href=\"http://mng.bz/orYv\">Build a Large Language Model From Scratch</a>의 번역서 예제 코드입니다.<br>\n",
        "<br>코드 저장소: <a href=\"https://github.com/rickiepark/llm-from-scratch\">https://github.com/rickiepark/llm-from-scratch</a>\n",
        "</font>\n",
        "</td>\n",
        "<td style=\"vertical-align:middle; text-align:left;\">\n",
        "<a href=\"http://mng.bz/orYv\"><img src=\"https://sebastianraschka.com/images/LLMs-from-scratch-images/cover-small.webp\" width=\"100px\"></a>\n",
        "</td>\n",
        "</tr>\n",
        "</table>"
      ]
    },
    {
      "cell_type": "markdown",
      "id": "51c9672d-8d0c-470d-ac2d-1271f8ec3f14",
      "metadata": {
        "id": "51c9672d-8d0c-470d-ac2d-1271f8ec3f14"
      },
      "source": [
        "# 3장 연습문제 해답"
      ]
    },
    {
      "cell_type": "code",
      "execution_count": 1,
      "id": "513b627b-c197-44bd-99a2-756391c8a1cd",
      "metadata": {
        "id": "513b627b-c197-44bd-99a2-756391c8a1cd",
        "outputId": "a1ca1aef-f00b-460e-c1c4-56e96bafb8bd",
        "colab": {
          "base_uri": "https://localhost:8080/"
        }
      },
      "outputs": [
        {
          "output_type": "stream",
          "name": "stdout",
          "text": [
            "파이토치 버전: 2.6.0+cu124\n"
          ]
        }
      ],
      "source": [
        "from importlib.metadata import version\n",
        "\n",
        "import torch\n",
        "print(\"파이토치 버전:\", version(\"torch\"))"
      ]
    },
    {
      "cell_type": "markdown",
      "id": "33dfa199-9aee-41d4-a64b-7e3811b9a616",
      "metadata": {
        "id": "33dfa199-9aee-41d4-a64b-7e3811b9a616"
      },
      "source": [
        "# 연습문제 3.1"
      ]
    },
    {
      "cell_type": "code",
      "execution_count": 2,
      "id": "5fee2cf5-61c3-4167-81b5-44ea155bbaf2",
      "metadata": {
        "id": "5fee2cf5-61c3-4167-81b5-44ea155bbaf2"
      },
      "outputs": [],
      "source": [
        "inputs = torch.tensor(\n",
        "  [[0.43, 0.15, 0.89], # Your     (x^1)\n",
        "   [0.55, 0.87, 0.66], # journey  (x^2)\n",
        "   [0.57, 0.85, 0.64], # starts   (x^3)\n",
        "   [0.22, 0.58, 0.33], # with     (x^4)\n",
        "   [0.77, 0.25, 0.10], # one      (x^5)\n",
        "   [0.05, 0.80, 0.55]] # step     (x^6)\n",
        ")\n",
        "\n",
        "d_in, d_out = 3, 2"
      ]
    },
    {
      "cell_type": "code",
      "execution_count": 3,
      "id": "62ea289c-41cd-4416-89dd-dde6383a6f70",
      "metadata": {
        "id": "62ea289c-41cd-4416-89dd-dde6383a6f70"
      },
      "outputs": [],
      "source": [
        "import torch.nn as nn\n",
        "\n",
        "class SelfAttention_v1(nn.Module):\n",
        "\n",
        "    def __init__(self, d_in, d_out):\n",
        "        super().__init__()\n",
        "        self.d_out = d_out\n",
        "        self.W_query = nn.Parameter(torch.rand(d_in, d_out))\n",
        "        self.W_key   = nn.Parameter(torch.rand(d_in, d_out))\n",
        "        self.W_value = nn.Parameter(torch.rand(d_in, d_out))\n",
        "\n",
        "    def forward(self, x):\n",
        "        keys = x @ self.W_key\n",
        "        queries = x @ self.W_query\n",
        "        values = x @ self.W_value\n",
        "\n",
        "        attn_scores = queries @ keys.T # 오메가\n",
        "        attn_weights = torch.softmax(attn_scores / keys.shape[-1]**0.5, dim=-1)\n",
        "\n",
        "        context_vec = attn_weights @ values\n",
        "        return context_vec\n",
        "\n",
        "torch.manual_seed(123)\n",
        "sa_v1 = SelfAttention_v1(d_in, d_out)"
      ]
    },
    {
      "cell_type": "code",
      "execution_count": 4,
      "id": "7b035143-f4e8-45fb-b398-dec1bd5153d4",
      "metadata": {
        "id": "7b035143-f4e8-45fb-b398-dec1bd5153d4"
      },
      "outputs": [],
      "source": [
        "class SelfAttention_v2(nn.Module):\n",
        "\n",
        "    def __init__(self, d_in, d_out):\n",
        "        super().__init__()\n",
        "        self.d_out = d_out\n",
        "        self.W_query = nn.Linear(d_in, d_out, bias=False)\n",
        "        self.W_key   = nn.Linear(d_in, d_out, bias=False)\n",
        "        self.W_value = nn.Linear(d_in, d_out, bias=False)\n",
        "\n",
        "    def forward(self, x):\n",
        "        keys = self.W_key(x)\n",
        "        queries = self.W_query(x)\n",
        "        values = self.W_value(x)\n",
        "\n",
        "        attn_scores = queries @ keys.T\n",
        "        attn_weights = torch.softmax(attn_scores / keys.shape[-1]**0.5, dim=1)\n",
        "\n",
        "        context_vec = attn_weights @ values\n",
        "        return context_vec\n",
        "\n",
        "torch.manual_seed(123)\n",
        "sa_v2 = SelfAttention_v2(d_in, d_out)"
      ]
    },
    {
      "cell_type": "code",
      "execution_count": 5,
      "id": "7591d79c-c30e-406d-adfd-20c12eb448f6",
      "metadata": {
        "id": "7591d79c-c30e-406d-adfd-20c12eb448f6"
      },
      "outputs": [],
      "source": [
        "sa_v1.W_query = torch.nn.Parameter(sa_v2.W_query.weight.T)\n",
        "sa_v1.W_key = torch.nn.Parameter(sa_v2.W_key.weight.T)\n",
        "sa_v1.W_value = torch.nn.Parameter(sa_v2.W_value.weight.T)"
      ]
    },
    {
      "cell_type": "code",
      "execution_count": 6,
      "id": "ddd0f54f-6bce-46cc-a428-17c2a56557d0",
      "metadata": {
        "id": "ddd0f54f-6bce-46cc-a428-17c2a56557d0",
        "outputId": "90718bd8-ec64-44ff-e11d-b3b9293cf6e9",
        "colab": {
          "base_uri": "https://localhost:8080/"
        }
      },
      "outputs": [
        {
          "output_type": "execute_result",
          "data": {
            "text/plain": [
              "tensor([[-0.5337, -0.1051],\n",
              "        [-0.5323, -0.1080],\n",
              "        [-0.5323, -0.1079],\n",
              "        [-0.5297, -0.1076],\n",
              "        [-0.5311, -0.1066],\n",
              "        [-0.5299, -0.1081]], grad_fn=<MmBackward0>)"
            ]
          },
          "metadata": {},
          "execution_count": 6
        }
      ],
      "source": [
        "sa_v1(inputs)"
      ]
    },
    {
      "cell_type": "code",
      "execution_count": 7,
      "id": "340908f8-1144-4ddd-a9e1-a1c5c3d592f5",
      "metadata": {
        "id": "340908f8-1144-4ddd-a9e1-a1c5c3d592f5",
        "outputId": "52bc48e0-2f97-4700-ef3b-719617c9045d",
        "colab": {
          "base_uri": "https://localhost:8080/"
        }
      },
      "outputs": [
        {
          "output_type": "execute_result",
          "data": {
            "text/plain": [
              "tensor([[-0.5337, -0.1051],\n",
              "        [-0.5323, -0.1080],\n",
              "        [-0.5323, -0.1079],\n",
              "        [-0.5297, -0.1076],\n",
              "        [-0.5311, -0.1066],\n",
              "        [-0.5299, -0.1081]], grad_fn=<MmBackward0>)"
            ]
          },
          "metadata": {},
          "execution_count": 7
        }
      ],
      "source": [
        "sa_v2(inputs)"
      ]
    },
    {
      "cell_type": "markdown",
      "id": "33543edb-46b5-4b01-8704-f7f101230544",
      "metadata": {
        "id": "33543edb-46b5-4b01-8704-f7f101230544"
      },
      "source": [
        "# 연습문제 3.2"
      ]
    },
    {
      "cell_type": "markdown",
      "id": "0588e209-1644-496a-8dae-7630b4ef9083",
      "metadata": {
        "id": "0588e209-1644-496a-8dae-7630b4ef9083"
      },
      "source": [
        "싱글 헤드 어텐션에서처럼 출력 차원이 2가 되어야 한다면 투영 차원 `d_out`을 1로 지정할 수 있습니다."
      ]
    },
    {
      "cell_type": "code",
      "source": [
        "class CausalSelfAttention(nn.Module):\n",
        "\n",
        "    def __init__(self, d_in, d_out, context_length, dropout, qkv_bias=False):\n",
        "        super().__init__()\n",
        "        self.d_out = d_out\n",
        "        self.W_query = nn.Linear(d_in, d_out, bias=qkv_bias)\n",
        "        self.W_key   = nn.Linear(d_in, d_out, bias=qkv_bias)\n",
        "        self.W_value = nn.Linear(d_in, d_out, bias=qkv_bias)\n",
        "        self.dropout = nn.Dropout(dropout) # New\n",
        "        self.register_buffer('mask', torch.triu(torch.ones(context_length, context_length), diagonal=1)) # New\n",
        "\n",
        "    def forward(self, x):\n",
        "        b, n_tokens, d_in = x.shape # New batch dimension b\n",
        "        keys = self.W_key(x)\n",
        "        queries = self.W_query(x)\n",
        "        values = self.W_value(x)\n",
        "\n",
        "        attn_scores = queries @ keys.transpose(1, 2) # Changed transpose\n",
        "        attn_scores.masked_fill_(  # New, _ ops are in-place\n",
        "            self.mask.bool()[:n_tokens, :n_tokens], -torch.inf)\n",
        "        attn_weights = torch.softmax(attn_scores / keys.shape[-1]**0.5, dim=-1)\n",
        "        attn_weights = self.dropout(attn_weights) # New\n",
        "\n",
        "        context_vec = attn_weights @ values\n",
        "        return context_vec\n",
        "\n",
        "\n",
        "class MultiHeadAttentionWrapper(nn.Module):\n",
        "    def __init__(self, d_in, d_out, context_length, dropout, num_heads, qkv_bias=False):\n",
        "        super().__init__()\n",
        "        self.heads = nn.ModuleList(\n",
        "            [CausalSelfAttention(d_in, d_out, context_length, dropout, qkv_bias)\n",
        "             for _ in range(num_heads)]\n",
        "        )\n",
        "        self.out_proj = nn.Linear(d_out*num_heads, d_out*num_heads)\n",
        "\n",
        "    def forward(self, x):\n",
        "        context_vec = torch.cat([head(x) for head in self.heads], dim=-1)\n",
        "        return self.out_proj(context_vec)"
      ],
      "metadata": {
        "id": "GLNZBvGHrTLh"
      },
      "id": "GLNZBvGHrTLh",
      "execution_count": 8,
      "outputs": []
    },
    {
      "cell_type": "code",
      "source": [
        "torch.manual_seed(123)\n",
        "\n",
        "inputs = torch.tensor(\n",
        "  [[0.43, 0.15, 0.89], # Your     (x^1)\n",
        "   [0.55, 0.87, 0.66], # journey  (x^2)\n",
        "   [0.57, 0.85, 0.64], # starts   (x^3)\n",
        "   [0.22, 0.58, 0.33], # with     (x^4)\n",
        "   [0.77, 0.25, 0.10], # one      (x^5)\n",
        "   [0.05, 0.80, 0.55]] # step     (x^6)\n",
        ")\n",
        "\n",
        "batch = torch.stack((inputs, inputs), dim=0)\n",
        "\n",
        "context_length = batch.shape[1]\n",
        "d_in = 3\n",
        "d_out = 1\n",
        "\n",
        "mha = MultiHeadAttentionWrapper(d_in, d_out, context_length, 0.0, num_heads=2)\n",
        "\n",
        "context_vecs = mha(batch)\n",
        "\n",
        "print(context_vecs)\n",
        "print(\"context_vecs.shape:\", context_vecs.shape)"
      ],
      "metadata": {
        "id": "_SrNpU7irAfK",
        "outputId": "130a56e8-5a8a-4e1e-d947-8dee84a30027",
        "colab": {
          "base_uri": "https://localhost:8080/"
        }
      },
      "id": "_SrNpU7irAfK",
      "execution_count": 9,
      "outputs": [
        {
          "output_type": "stream",
          "name": "stdout",
          "text": [
            "tensor([[[0.3394, 0.4247],\n",
            "         [0.3189, 0.3186],\n",
            "         [0.3106, 0.2866],\n",
            "         [0.2912, 0.3228],\n",
            "         [0.2807, 0.3430],\n",
            "         [0.2763, 0.3473]],\n",
            "\n",
            "        [[0.3394, 0.4247],\n",
            "         [0.3189, 0.3186],\n",
            "         [0.3106, 0.2866],\n",
            "         [0.2912, 0.3228],\n",
            "         [0.2807, 0.3430],\n",
            "         [0.2763, 0.3473]]], grad_fn=<ViewBackward0>)\n",
            "context_vecs.shape: torch.Size([2, 6, 2])\n"
          ]
        }
      ]
    },
    {
      "cell_type": "markdown",
      "id": "92bdabcb-06cf-4576-b810-d883bbd313ba",
      "metadata": {
        "id": "92bdabcb-06cf-4576-b810-d883bbd313ba"
      },
      "source": [
        "# 연습문제 3.3"
      ]
    },
    {
      "cell_type": "code",
      "source": [
        "class MultiHeadAttention(nn.Module):\n",
        "    def __init__(self, d_in, d_out, context_length, dropout, num_heads, qkv_bias=False):\n",
        "        super().__init__()\n",
        "        assert (d_out % num_heads == 0), \\\n",
        "            \"d_out은 num_heads로 나누어 떨어져야 합니다\"\n",
        "\n",
        "        self.d_out = d_out\n",
        "        self.num_heads = num_heads\n",
        "        self.head_dim = d_out // num_heads # 원하는 출력 차원에 맞도록 투영 차원을 낮춥니다.\n",
        "\n",
        "        self.W_query = nn.Linear(d_in, d_out, bias=qkv_bias)\n",
        "        self.W_key = nn.Linear(d_in, d_out, bias=qkv_bias)\n",
        "        self.W_value = nn.Linear(d_in, d_out, bias=qkv_bias)\n",
        "        self.out_proj = nn.Linear(d_out, d_out)  # Linear 층을 사용해 헤드의 출력을 결합합니다.\n",
        "        self.dropout = nn.Dropout(dropout)\n",
        "        self.register_buffer(\n",
        "            \"mask\",\n",
        "            torch.triu(torch.ones(context_length, context_length),\n",
        "                       diagonal=1)\n",
        "        )\n",
        "\n",
        "    def forward(self, x):\n",
        "        b, num_tokens, d_in = x.shape\n",
        "        # `CausalAttention`과 마찬가지로, 입력의 `num_tokens`가 `context_length`를 넘는 경우 마스크 생성에서 오류가 발생합니다.\n",
        "        # 실제로는 forward 메서드에 들어오기 전에 LLM이 입력이 `context_length`를\n",
        "        # 넘지 않는지 확인하기 때문에 문제가 되지 않습니다.\n",
        "\n",
        "        keys = self.W_key(x) # 크기: (b, num_tokens, d_out)\n",
        "        queries = self.W_query(x)\n",
        "        values = self.W_value(x)\n",
        "\n",
        "        # `num_heads` 차원을 추가함으로써 암묵적으로 행렬을 분할합니다.\n",
        "        # 그다음 마지막 차원을 `num_heads`에 맞춰 채웁니다: (b, num_tokens, d_out) -> (b, num_tokens, num_heads, head_dim)\n",
        "        keys = keys.view(b, num_tokens, self.num_heads, self.head_dim)\n",
        "        values = values.view(b, num_tokens, self.num_heads, self.head_dim)\n",
        "        queries = queries.view(b, num_tokens, self.num_heads, self.head_dim)\n",
        "\n",
        "        # 전치: (b, num_tokens, num_heads, head_dim) -> (b, num_heads, num_tokens, head_dim)\n",
        "        keys = keys.transpose(1, 2)\n",
        "        queries = queries.transpose(1, 2)\n",
        "        values = values.transpose(1, 2)\n",
        "\n",
        "        # 코잘 마스크로 스케일드 점곱 어텐션(셀프 어텐션)을 계산합니다.\n",
        "        attn_scores = queries @ keys.transpose(2, 3)  # 각 헤드에 대해 점곱을 수행합니다.\n",
        "\n",
        "        # 마스크를 불리언 타입으로 만들고 토큰 개수로 마스크를 자릅니다.\n",
        "        mask_bool = self.mask.bool()[:num_tokens, :num_tokens]\n",
        "\n",
        "        # 마스크를 사용해 어텐션 점수를 채웁니다.\n",
        "        attn_scores.masked_fill_(mask_bool, -torch.inf)\n",
        "\n",
        "        attn_weights = torch.softmax(attn_scores / keys.shape[-1]**0.5, dim=-1)\n",
        "        attn_weights = self.dropout(attn_weights)\n",
        "\n",
        "        # 크기: (b, num_tokens, num_heads, head_dim)\n",
        "        context_vec = (attn_weights @ values).transpose(1, 2)\n",
        "\n",
        "        # 헤드를 결합합니다. self.d_out = self.num_heads * self.head_dim\n",
        "        context_vec = context_vec.contiguous().view(b, num_tokens, self.d_out)\n",
        "        context_vec = self.out_proj(context_vec) # optional projection\n",
        "\n",
        "        return context_vec"
      ],
      "metadata": {
        "id": "KtCzsSEhs9wV"
      },
      "id": "KtCzsSEhs9wV",
      "execution_count": 10,
      "outputs": []
    },
    {
      "cell_type": "code",
      "source": [
        "context_length = 1024\n",
        "d_in, d_out = 768, 768\n",
        "num_heads = 12\n",
        "\n",
        "mha = MultiHeadAttention(d_in, d_out, context_length, 0.0, num_heads)"
      ],
      "metadata": {
        "id": "Q5oN2b9Ss4Qx"
      },
      "id": "Q5oN2b9Ss4Qx",
      "execution_count": 11,
      "outputs": []
    },
    {
      "cell_type": "markdown",
      "id": "375d5290-8e8b-4149-958e-1efb58a69191",
      "metadata": {
        "id": "375d5290-8e8b-4149-958e-1efb58a69191"
      },
      "source": [
        "추가적으로 파라미터 개수는 다음과 같습니다."
      ]
    },
    {
      "cell_type": "code",
      "source": [
        "def count_parameters(model):\n",
        "    return sum(p.numel() for p in model.parameters() if p.requires_grad)\n",
        "\n",
        "count_parameters(mha)"
      ],
      "metadata": {
        "id": "YwBwKUnntEcW",
        "outputId": "72559669-5418-444f-c38f-c9be605e6711",
        "colab": {
          "base_uri": "https://localhost:8080/"
        }
      },
      "id": "YwBwKUnntEcW",
      "execution_count": 12,
      "outputs": [
        {
          "output_type": "execute_result",
          "data": {
            "text/plain": [
              "2360064"
            ]
          },
          "metadata": {},
          "execution_count": 12
        }
      ]
    },
    {
      "cell_type": "markdown",
      "id": "a56c1d47-9b95-4bd1-a517-580a6f779c52",
      "metadata": {
        "id": "a56c1d47-9b95-4bd1-a517-580a6f779c52"
      },
      "source": [
        "GPT-2 모델은 총 1억 1,700백만 개의 파라미터를 가지고 있습니다. 하지만 위 결과에서 보듯이 대부분의 파라미터는 멀티 헤드 어텐션 모듈에 있지 않습니다."
      ]
    }
  ],
  "metadata": {
    "kernelspec": {
      "display_name": "Python 3 (ipykernel)",
      "language": "python",
      "name": "python3"
    },
    "language_info": {
      "codemirror_mode": {
        "name": "ipython",
        "version": 3
      },
      "file_extension": ".py",
      "mimetype": "text/x-python",
      "name": "python",
      "nbconvert_exporter": "python",
      "pygments_lexer": "ipython3",
      "version": "3.10.16"
    },
    "colab": {
      "provenance": [],
      "include_colab_link": true
    }
  },
  "nbformat": 4,
  "nbformat_minor": 5
}