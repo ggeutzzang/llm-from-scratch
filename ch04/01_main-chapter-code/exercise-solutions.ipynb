{
  "cells": [
    {
      "cell_type": "markdown",
      "metadata": {
        "id": "view-in-github",
        "colab_type": "text"
      },
      "source": [
        "<a href=\"https://colab.research.google.com/github/rickiepark/llm-from-scratch/blob/main/ch04/01_main-chapter-code/exercise-solutions.ipynb\" target=\"_parent\"><img src=\"https://colab.research.google.com/assets/colab-badge.svg\" alt=\"Open In Colab\"/></a>"
      ]
    },
    {
      "cell_type": "markdown",
      "id": "ba450fb1-8a26-4894-ab7a-5d7bfefe90ce",
      "metadata": {
        "id": "ba450fb1-8a26-4894-ab7a-5d7bfefe90ce"
      },
      "source": [
        "<table style=\"width:100%\">\n",
        "<tr>\n",
        "<td style=\"vertical-align:middle; text-align:left;\">\n",
        "<font size=\"2\">\n",
        "세바스찬 라시카(Sebastian Raschka)가 쓴 <a href=\"http://mng.bz/orYv\">Build a Large Language Model From Scratch</a>의 번역서 예제 코드입니다.<br>\n",
        "<br>코드 저장소: <a href=\"https://github.com/rickiepark/llm-from-scratch\">https://github.com/rickiepark/llm-from-scratch</a>\n",
        "</font>\n",
        "</td>\n",
        "<td style=\"vertical-align:middle; text-align:left;\">\n",
        "<a href=\"http://mng.bz/orYv\"><img src=\"https://sebastianraschka.com/images/LLMs-from-scratch-images/cover-small.webp\" width=\"100px\"></a>\n",
        "</td>\n",
        "</tr>\n",
        "</table>"
      ]
    },
    {
      "cell_type": "markdown",
      "id": "51c9672d-8d0c-470d-ac2d-1271f8ec3f14",
      "metadata": {
        "id": "51c9672d-8d0c-470d-ac2d-1271f8ec3f14"
      },
      "source": [
        "# 4장 연습문제 해답\n"
      ]
    },
    {
      "cell_type": "code",
      "execution_count": 1,
      "id": "5b2fac7a-fdcd-437c-b1c4-0b35a31cd489",
      "metadata": {
        "id": "5b2fac7a-fdcd-437c-b1c4-0b35a31cd489",
        "outputId": "58855dc7-cffa-409f-c563-0826fccb42bd",
        "colab": {
          "base_uri": "https://localhost:8080/"
        }
      },
      "outputs": [
        {
          "output_type": "stream",
          "name": "stdout",
          "text": [
            "파이토치 버전: 2.6.0+cu124\n"
          ]
        }
      ],
      "source": [
        "from importlib.metadata import version\n",
        "\n",
        "print(\"파이토치 버전:\", version(\"torch\"))"
      ]
    },
    {
      "cell_type": "markdown",
      "id": "5fea8be3-30a1-4623-a6d7-b095c6c1092e",
      "metadata": {
        "id": "5fea8be3-30a1-4623-a6d7-b095c6c1092e"
      },
      "source": [
        "# 연습문제 4.1: 피드 포워드 신경망과 어텐션 모듈에 있는 파라미터 수\n"
      ]
    },
    {
      "cell_type": "code",
      "source": [
        "# 깃허브에서 gpt.py 파일을 다운로드합니다.\n",
        "!wget https://bit.ly/3SZbhlj -O gpt.py"
      ],
      "metadata": {
        "id": "vA7_6nJo4rlw",
        "outputId": "1f82723f-32cf-409a-e58c-1d9a7be4b69c",
        "colab": {
          "base_uri": "https://localhost:8080/"
        }
      },
      "id": "vA7_6nJo4rlw",
      "execution_count": 3,
      "outputs": [
        {
          "output_type": "stream",
          "name": "stdout",
          "text": [
            "--2025-06-06 06:17:56--  https://bit.ly/3SZbhlj\n",
            "Resolving bit.ly (bit.ly)... 67.199.248.10, 67.199.248.11\n",
            "Connecting to bit.ly (bit.ly)|67.199.248.10|:443... connected.\n",
            "HTTP request sent, awaiting response... 301 Moved Permanently\n",
            "Location: https://raw.githubusercontent.com/rickiepark/llm-from-scratch/refs/heads/main/ch04/01_main-chapter-code/gpt.py [following]\n",
            "--2025-06-06 06:17:57--  https://raw.githubusercontent.com/rickiepark/llm-from-scratch/refs/heads/main/ch04/01_main-chapter-code/gpt.py\n",
            "Resolving raw.githubusercontent.com (raw.githubusercontent.com)... 185.199.108.133, 185.199.109.133, 185.199.110.133, ...\n",
            "Connecting to raw.githubusercontent.com (raw.githubusercontent.com)|185.199.108.133|:443... connected.\n",
            "HTTP request sent, awaiting response... 200 OK\n",
            "Length: 9675 (9.4K) [text/plain]\n",
            "Saving to: ‘gpt.py’\n",
            "\n",
            "gpt.py              100%[===================>]   9.45K  --.-KB/s    in 0s      \n",
            "\n",
            "2025-06-06 06:17:57 (80.7 MB/s) - ‘gpt.py’ saved [9675/9675]\n",
            "\n"
          ]
        }
      ]
    },
    {
      "cell_type": "code",
      "execution_count": 4,
      "id": "2751b0e5-ffd3-4be2-8db3-e20dd4d61d69",
      "metadata": {
        "id": "2751b0e5-ffd3-4be2-8db3-e20dd4d61d69",
        "outputId": "bce1650b-dc78-4635-a46b-3b4e119ed8a7",
        "colab": {
          "base_uri": "https://localhost:8080/"
        }
      },
      "outputs": [
        {
          "output_type": "stream",
          "name": "stdout",
          "text": [
            "TransformerBlock(\n",
            "  (att): MultiHeadAttention(\n",
            "    (W_query): Linear(in_features=768, out_features=768, bias=False)\n",
            "    (W_key): Linear(in_features=768, out_features=768, bias=False)\n",
            "    (W_value): Linear(in_features=768, out_features=768, bias=False)\n",
            "    (out_proj): Linear(in_features=768, out_features=768, bias=True)\n",
            "    (dropout): Dropout(p=0.1, inplace=False)\n",
            "  )\n",
            "  (ff): FeedForward(\n",
            "    (layers): Sequential(\n",
            "      (0): Linear(in_features=768, out_features=3072, bias=True)\n",
            "      (1): GELU()\n",
            "      (2): Linear(in_features=3072, out_features=768, bias=True)\n",
            "    )\n",
            "  )\n",
            "  (norm1): LayerNorm()\n",
            "  (norm2): LayerNorm()\n",
            "  (drop_shortcut): Dropout(p=0.1, inplace=False)\n",
            ")\n"
          ]
        }
      ],
      "source": [
        "from gpt import TransformerBlock\n",
        "\n",
        "GPT_CONFIG_124M = {\n",
        "    \"vocab_size\": 50257,\n",
        "    \"context_length\": 1024,\n",
        "    \"emb_dim\": 768,\n",
        "    \"n_heads\": 12,\n",
        "    \"n_layers\": 12,\n",
        "    \"drop_rate\": 0.1,\n",
        "    \"qkv_bias\": False\n",
        "}\n",
        "\n",
        "block = TransformerBlock(GPT_CONFIG_124M)\n",
        "print(block)"
      ]
    },
    {
      "cell_type": "code",
      "execution_count": 5,
      "id": "1bcaffd1-0cf6-4f8f-bd53-ab88a37f443e",
      "metadata": {
        "id": "1bcaffd1-0cf6-4f8f-bd53-ab88a37f443e",
        "outputId": "f485f028-a342-4657-a033-dc3c545b1a57",
        "colab": {
          "base_uri": "https://localhost:8080/"
        }
      },
      "outputs": [
        {
          "output_type": "stream",
          "name": "stdout",
          "text": [
            "피드 포워드 모듈의 총 파라미터 수: 4,722,432\n"
          ]
        }
      ],
      "source": [
        "total_params = sum(p.numel() for p in block.ff.parameters())\n",
        "print(f\"피드 포워드 모듈의 총 파라미터 수: {total_params:,}\")"
      ]
    },
    {
      "cell_type": "code",
      "execution_count": 6,
      "id": "c1dd06c1-ab6c-4df7-ba73-f9cd54b31138",
      "metadata": {
        "id": "c1dd06c1-ab6c-4df7-ba73-f9cd54b31138",
        "outputId": "00ed8927-b465-47ff-de3b-996b8ed245d1",
        "colab": {
          "base_uri": "https://localhost:8080/"
        }
      },
      "outputs": [
        {
          "output_type": "stream",
          "name": "stdout",
          "text": [
            "어텐션 모듈의 총 파라미터 수: 2,360,064\n"
          ]
        }
      ],
      "source": [
        "total_params = sum(p.numel() for p in block.att.parameters())\n",
        "print(f\"어텐션 모듈의 총 파라미터 수: {total_params:,}\")"
      ]
    },
    {
      "cell_type": "markdown",
      "id": "15463dec-520a-47b4-b3ad-e180394fd076",
      "metadata": {
        "id": "15463dec-520a-47b4-b3ad-e180394fd076"
      },
      "source": [
        "- 위는 하나의 트랜스포머 블록에 대한 결과입니다.\n",
        "- 1억 2,400만 파라미터의 GPT 모델의 경우 위 결과에 12를 곱하면 전체 트랜스포머 블록의 파라미터 수를 구할 수 있습니다."
      ]
    },
    {
      "cell_type": "markdown",
      "id": "597e9251-e0a9-4972-8df6-f280f35939f9",
      "metadata": {
        "id": "597e9251-e0a9-4972-8df6-f280f35939f9"
      },
      "source": [
        "**보너스: 파라미터 계산 방법**\n",
        "\n",
        "- 파라미터 계산 방법이 궁금한 사람을 위해 직접 계산해 보죠(`emb_dim=768`이라 가정합니다):\n",
        "\n",
        "피드 포워드 모듈:\n",
        "\n",
        "- 첫 번째 `Linear` 층: 768 입력 × 4×768 출력 + 4×768 편향 유닛 = 2,362,368\n",
        "- 두 번째 `Linear` 층: 4×768 입력 × 768 출력 + 768 편향 유닛 = 2,360,064\n",
        "- 총:  첫 번째 `Linear` 층 + 두 번째 `Linear` 층 = 2,362,368 + 2,360,064 = 4,722,432\n",
        "\n",
        "어텐션 모듈:\n",
        "\n",
        "- `W_query`: 768 입력 × 768 출력 = 589,824\n",
        "- `W_key`: 768 입력 × 768 출력 = 589,824\n",
        "- `W_value`: 768 입력 × 768 출력 = 589,824\n",
        "- `out_proj`: 768 입력 × 768 출력 + 768 편향 유닛 = 590,592\n",
        "- 총: `W_query` + `W_key` + `W_value` + `out_proj` = 3×589,824 + 590,592 = 2,360,064"
      ]
    },
    {
      "cell_type": "markdown",
      "id": "0f7b7c7f-0fa1-4d30-ab44-e499edd55b6d",
      "metadata": {
        "id": "0f7b7c7f-0fa1-4d30-ab44-e499edd55b6d"
      },
      "source": [
        "# 연습문제 4.2: 더 큰 GPT 모델 초기화하기\n"
      ]
    },
    {
      "cell_type": "markdown",
      "id": "310b2e05-3ec8-47fc-afd9-83bf03d4aad8",
      "metadata": {
        "id": "310b2e05-3ec8-47fc-afd9-83bf03d4aad8"
      },
      "source": [
        "- **GPT2-small** (본문에서 구현한 1억 2,400만 모델):\n",
        "    - \"emb_dim\" = 768\n",
        "    - \"n_layers\" = 12\n",
        "    - \"n_heads\" = 12\n",
        "\n",
        "- **GPT2-medium:**\n",
        "    - \"emb_dim\" = 1024\n",
        "    - \"n_layers\" = 24\n",
        "    - \"n_heads\" = 16\n",
        "\n",
        "- **GPT2-large:**\n",
        "    - \"emb_dim\" = 1280\n",
        "    - \"n_layers\" = 36\n",
        "    - \"n_heads\" = 20\n",
        "\n",
        "- **GPT2-XL:**\n",
        "    - \"emb_dim\" = 1600\n",
        "    - \"n_layers\" = 48\n",
        "    - \"n_heads\" = 25"
      ]
    },
    {
      "cell_type": "code",
      "execution_count": 7,
      "id": "90185dea-81ca-4cdc-aef7-4aaf95cba946",
      "metadata": {
        "id": "90185dea-81ca-4cdc-aef7-4aaf95cba946"
      },
      "outputs": [],
      "source": [
        "GPT_CONFIG_124M = {\n",
        "    \"vocab_size\": 50257,\n",
        "    \"context_length\": 1024,\n",
        "    \"emb_dim\": 768,\n",
        "    \"n_heads\": 12,\n",
        "    \"n_layers\": 12,\n",
        "    \"drop_rate\": 0.1,\n",
        "    \"qkv_bias\": False\n",
        "}\n",
        "\n",
        "\n",
        "def get_config(base_config, model_name=\"gpt2-small\"):\n",
        "    GPT_CONFIG = base_config.copy()\n",
        "\n",
        "    if model_name == \"gpt2-small\":\n",
        "        GPT_CONFIG[\"emb_dim\"] = 768\n",
        "        GPT_CONFIG[\"n_layers\"] = 12\n",
        "        GPT_CONFIG[\"n_heads\"] = 12\n",
        "\n",
        "    elif model_name == \"gpt2-medium\":\n",
        "        GPT_CONFIG[\"emb_dim\"] = 1024\n",
        "        GPT_CONFIG[\"n_layers\"] = 24\n",
        "        GPT_CONFIG[\"n_heads\"] = 16\n",
        "\n",
        "    elif model_name == \"gpt2-large\":\n",
        "        GPT_CONFIG[\"emb_dim\"] = 1280\n",
        "        GPT_CONFIG[\"n_layers\"] = 36\n",
        "        GPT_CONFIG[\"n_heads\"] = 20\n",
        "\n",
        "    elif model_name == \"gpt2-xl\":\n",
        "        GPT_CONFIG[\"emb_dim\"] = 1600\n",
        "        GPT_CONFIG[\"n_layers\"] = 48\n",
        "        GPT_CONFIG[\"n_heads\"] = 25\n",
        "\n",
        "    else:\n",
        "        raise ValueError(f\"잘못된 모델 이름입니다 {model_name}\")\n",
        "\n",
        "    return GPT_CONFIG\n",
        "\n",
        "\n",
        "def calculate_size(model):\n",
        "\n",
        "    total_params = sum(p.numel() for p in model.parameters())\n",
        "    print(f\"전체 파라미터 수: {total_params:,}\")\n",
        "\n",
        "    total_params_gpt2 =  total_params - sum(p.numel() for p in model.out_head.parameters())\n",
        "    print(f\"가중치 묶기를 고려한 훈련 가능한 파라미터 수: {total_params_gpt2:,}\")\n",
        "\n",
        "    # 총 크기를 바이트 단위로 계산 (float32, 매개변수당 4바이트 가정)\n",
        "    total_size_bytes = total_params * 4\n",
        "\n",
        "    # 메가바이트로 변환\n",
        "    total_size_mb = total_size_bytes / (1024 * 1024)\n",
        "\n",
        "    print(f\"모델의 총 크기: {total_size_mb:.2f} MB\")"
      ]
    },
    {
      "cell_type": "code",
      "execution_count": 8,
      "id": "2587e011-78a4-479c-a8fd-961cc40a5fd4",
      "metadata": {
        "id": "2587e011-78a4-479c-a8fd-961cc40a5fd4",
        "outputId": "138ac38c-feb5-49c7-c59e-82dc513dc6cb",
        "colab": {
          "base_uri": "https://localhost:8080/"
        }
      },
      "outputs": [
        {
          "output_type": "stream",
          "name": "stdout",
          "text": [
            "\n",
            "\n",
            "gpt2-small:\n",
            "전체 파라미터 수: 163,009,536\n",
            "가중치 묶기를 고려한 훈련 가능한 파라미터 수: 124,412,160\n",
            "모델의 총 크기: 621.83 MB\n",
            "\n",
            "\n",
            "gpt2-medium:\n",
            "전체 파라미터 수: 406,212,608\n",
            "가중치 묶기를 고려한 훈련 가능한 파라미터 수: 354,749,440\n",
            "모델의 총 크기: 1549.58 MB\n",
            "\n",
            "\n",
            "gpt2-large:\n",
            "전체 파라미터 수: 838,220,800\n",
            "가중치 묶기를 고려한 훈련 가능한 파라미터 수: 773,891,840\n",
            "모델의 총 크기: 3197.56 MB\n",
            "\n",
            "\n",
            "gpt2-xl:\n",
            "전체 파라미터 수: 1,637,792,000\n",
            "가중치 묶기를 고려한 훈련 가능한 파라미터 수: 1,557,380,800\n",
            "모델의 총 크기: 6247.68 MB\n"
          ]
        }
      ],
      "source": [
        "from gpt import GPTModel\n",
        "\n",
        "\n",
        "for model_abbrev in (\"small\", \"medium\", \"large\", \"xl\"):\n",
        "    model_name = f\"gpt2-{model_abbrev}\"\n",
        "    CONFIG = get_config(GPT_CONFIG_124M, model_name=model_name)\n",
        "    model = GPTModel(CONFIG)\n",
        "    print(f\"\\n\\n{model_name}:\") # 모델 이름 출력\n",
        "    calculate_size(model)"
      ]
    },
    {
      "cell_type": "markdown",
      "id": "f5f2306e-5dc8-498e-92ee-70ae7ec37ac1",
      "metadata": {
        "id": "f5f2306e-5dc8-498e-92ee-70ae7ec37ac1"
      },
      "source": [
        "# 연습문제 4.3: 별도의 드롭아웃 비율 사용하기\n"
      ]
    },
    {
      "cell_type": "code",
      "execution_count": 9,
      "id": "5fee2cf5-61c3-4167-81b5-44ea155bbaf2",
      "metadata": {
        "id": "5fee2cf5-61c3-4167-81b5-44ea155bbaf2"
      },
      "outputs": [],
      "source": [
        "GPT_CONFIG_124M = {\n",
        "    \"vocab_size\": 50257,\n",
        "    \"context_length\": 1024,\n",
        "    \"emb_dim\": 768,\n",
        "    \"n_heads\": 12,\n",
        "    \"n_layers\": 12,\n",
        "    \"drop_rate_emb\": 0.1,        # 임베딩 층에 대한 드롭아웃\n",
        "    \"drop_rate_attn\": 0.1,       # 멀티 헤드 어텐션에 대한 드롭아웃\n",
        "    \"drop_rate_shortcut\": 0.1,   # 숏컷 연결에 대한 드롭아웃\n",
        "    \"qkv_bias\": False\n",
        "}"
      ]
    },
    {
      "cell_type": "code",
      "execution_count": 10,
      "id": "5aa1b0c1-d78a-48fc-ad08-4802458b43f7",
      "metadata": {
        "id": "5aa1b0c1-d78a-48fc-ad08-4802458b43f7"
      },
      "outputs": [],
      "source": [
        "import torch.nn as nn\n",
        "from gpt import MultiHeadAttention, LayerNorm, FeedForward\n",
        "\n",
        "\n",
        "class TransformerBlock(nn.Module):\n",
        "    def __init__(self, cfg):\n",
        "        super().__init__()\n",
        "        self.att = MultiHeadAttention(\n",
        "            d_in=cfg[\"emb_dim\"],\n",
        "            d_out=cfg[\"emb_dim\"],\n",
        "            context_length=cfg[\"context_length\"],\n",
        "            num_heads=cfg[\"n_heads\"],\n",
        "            dropout=cfg[\"drop_rate_attn\"], # 추가: 멀티 헤드 어텐션에 대한 드롭아웃\n",
        "            qkv_bias=cfg[\"qkv_bias\"])\n",
        "        self.ff = FeedForward(cfg)\n",
        "        self.norm1 = LayerNorm(cfg[\"emb_dim\"])\n",
        "        self.norm2 = LayerNorm(cfg[\"emb_dim\"])\n",
        "        self.drop_shortcut = nn.Dropout(cfg[\"drop_rate_shortcut\"])\n",
        "\n",
        "    def forward(self, x):\n",
        "        # 어텐션 블록을 위한 숏컷 연결\n",
        "        shortcut = x\n",
        "        x = self.norm1(x)\n",
        "        x = self.att(x)  # 크기 [batch_size, num_tokens, emb_size]\n",
        "        x = self.drop_shortcut(x)\n",
        "        x = x + shortcut  # 원래 입력을 다시 더합니다\n",
        "\n",
        "        # 피드포워드 블록을 위한 숏컷 연결\n",
        "        shortcut = x\n",
        "        x = self.norm2(x)\n",
        "        x = self.ff(x)\n",
        "        x = self.drop_shortcut(x)\n",
        "        x = x + shortcut  # 원래 입력을 다시 더합니다\n",
        "\n",
        "        return x\n",
        "\n",
        "\n",
        "class GPTModel(nn.Module):\n",
        "    def __init__(self, cfg):\n",
        "        super().__init__()\n",
        "        self.tok_emb = nn.Embedding(cfg[\"vocab_size\"], cfg[\"emb_dim\"])\n",
        "        self.pos_emb = nn.Embedding(cfg[\"context_length\"], cfg[\"emb_dim\"])\n",
        "        self.drop_emb = nn.Dropout(cfg[\"drop_rate_emb\"]) # 추가: 임베딩 층에 대한 드롭아웃\n",
        "\n",
        "        self.trf_blocks = nn.Sequential(\n",
        "            *[TransformerBlock(cfg) for _ in range(cfg[\"n_layers\"])])\n",
        "\n",
        "        self.final_norm = LayerNorm(cfg[\"emb_dim\"])\n",
        "        self.out_head = nn.Linear(cfg[\"emb_dim\"], cfg[\"vocab_size\"], bias=False)\n",
        "\n",
        "    def forward(self, in_idx):\n",
        "        batch_size, seq_len = in_idx.shape\n",
        "        tok_embeds = self.tok_emb(in_idx)\n",
        "        pos_embeds = self.pos_emb(torch.arange(seq_len, device=in_idx.device))\n",
        "        x = tok_embeds + pos_embeds  # 크기 [batch_size, num_tokens, emb_size]\n",
        "        x = self.drop_emb(x)\n",
        "        x = self.trf_blocks(x)\n",
        "        x = self.final_norm(x)\n",
        "        logits = self.out_head(x)\n",
        "        return logits"
      ]
    },
    {
      "cell_type": "code",
      "execution_count": 11,
      "id": "1d013d32-c275-4f42-be21-9010f1537227",
      "metadata": {
        "id": "1d013d32-c275-4f42-be21-9010f1537227"
      },
      "outputs": [],
      "source": [
        "import torch\n",
        "\n",
        "torch.manual_seed(123)\n",
        "model = GPTModel(GPT_CONFIG_124M)"
      ]
    }
  ],
  "metadata": {
    "kernelspec": {
      "display_name": "Python 3",
      "name": "python3"
    },
    "language_info": {
      "codemirror_mode": {
        "name": "ipython",
        "version": 3
      },
      "file_extension": ".py",
      "mimetype": "text/x-python",
      "name": "python",
      "nbconvert_exporter": "python",
      "pygments_lexer": "ipython3",
      "version": "3.10.16"
    },
    "colab": {
      "provenance": [],
      "gpuType": "T4",
      "include_colab_link": true
    },
    "accelerator": "GPU"
  },
  "nbformat": 4,
  "nbformat_minor": 5
}