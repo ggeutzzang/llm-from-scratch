{
 "cells": [
  {
   "cell_type": "markdown",
   "metadata": {},
   "source": [
    "# transpose() 사용법 완벽 가이드\n",
    "\n",
    "행렬의 행(row)과 열(column)을 바꾸는 `transpose()` 메서드를 NumPy, PyTorch, Pandas에서 어떻게 사용하는지 배워봅시다."
   ]
  },
  {
   "cell_type": "markdown",
   "metadata": {},
   "source": [
    "## 1️⃣ NumPy에서 transpose() 사용"
   ]
  },
  {
   "cell_type": "code",
   "execution_count": null,
   "metadata": {},
   "outputs": [],
   "source": [
    "import numpy as np\n",
    "\n",
    "# 간단한 2D 배열 생성 (2행 3열)\n",
    "arr = np.array([\n",
    "    [1, 2, 3],\n",
    "    [4, 5, 6]\n",
    "])\n",
    "\n",
    "print(\"원본 배열 (2행 3열):\")\n",
    "print(arr)\n",
    "print(f\"shape: {arr.shape}\")\n",
    "print()\n",
    "\n",
    "# 방법 1: .transpose() 메서드 사용\n",
    "arr_T = arr.transpose()\n",
    "print(\"transpose() 후 (3행 2열):\")\n",
    "print(arr_T)\n",
    "print(f\"shape: {arr_T.shape}\")"
   ]
  },
  {
   "cell_type": "code",
   "execution_count": null,
   "metadata": {},
   "outputs": [],
   "source": [
    "# 방법 2: .T 속성 사용 (더 간단함)\n",
    "arr_T2 = arr.T\n",
    "print(\"arr.T를 사용한 결과:\")\n",
    "print(arr_T2)\n",
    "print(f\"shape: {arr_T2.shape}\")\n",
    "print()\n",
    "print(f\"둘이 같은가? {np.array_equal(arr_T, arr_T2)}\")"
   ]
  },
  {
   "cell_type": "markdown",
   "metadata": {},
   "source": [
    "### 3D 배열에서 transpose() 사용"
   ]
  },
  {
   "cell_type": "code",
   "execution_count": null,
   "metadata": {},
   "outputs": [],
   "source": [
    "# 3D 배열 생성 (batch, height, width)\n",
    "arr_3d = np.arange(24).reshape(2, 3, 4)  # 2 x 3 x 4\n",
    "\n",
    "print(\"원본 3D 배열:\")\n",
    "print(f\"shape: {arr_3d.shape}\")\n",
    "print(arr_3d)\n",
    "print()\n",
    "\n",
    "# 축을 명시적으로 지정하여 전치\n",
    "arr_3d_T = arr_3d.transpose(2, 1, 0)  # (4, 3, 2)\n",
    "print(\"transpose(2, 1, 0) 후:\")\n",
    "print(f\"shape: {arr_3d_T.shape}\")"
   ]
  },
  {
   "cell_type": "markdown",
   "metadata": {},
   "source": [
    "## 2️⃣ PyTorch에서 transpose() 사용"
   ]
  },
  {
   "cell_type": "code",
   "execution_count": null,
   "metadata": {},
   "outputs": [],
   "source": [
    "import torch\n",
    "\n",
    "# PyTorch 텐서 생성 (2행 3열)\n",
    "tensor = torch.tensor([\n",
    "    [1, 2, 3],\n",
    "    [4, 5, 6]\n",
    "], dtype=torch.float32)\n",
    "\n",
    "print(\"원본 텐서 (2행 3열):\")\n",
    "print(tensor)\n",
    "print(f\"shape: {tensor.shape}\")\n",
    "print()\n",
    "\n",
    "# 방법 1: .transpose(dim0, dim1) - 두 축을 지정\n",
    "tensor_T = tensor.transpose(0, 1)\n",
    "print(\"transpose(0, 1) 후 (3행 2열):\")\n",
    "print(tensor_T)\n",
    "print(f\"shape: {tensor_T.shape}\")"
   ]
  },
  {
   "cell_type": "code",
   "execution_count": null,
   "metadata": {},
   "outputs": [],
   "source": [
    "# 방법 2: .t() - 2D 텐서 전용 (간편)\n",
    "tensor_t = tensor.t()\n",
    "print(\".t()를 사용한 결과:\")\n",
    "print(tensor_t)\n",
    "print(f\"shape: {tensor_t.shape}\")\n",
    "print()\n",
    "print(f\"둘이 같은가? {torch.equal(tensor_T, tensor_t)}\")"
   ]
  },
  {
   "cell_type": "markdown",
   "metadata": {},
   "source": [
    "### PyTorch 3D 이상 텐서에서 transpose() 사용"
   ]
  },
  {
   "cell_type": "code",
   "execution_count": null,
   "metadata": {},
   "outputs": [],
   "source": [
    "# 3D 텐서 생성 (batch=2, height=3, width=4)\n",
    "tensor_3d = torch.arange(24, dtype=torch.float32).reshape(2, 3, 4)\n",
    "\n",
    "print(\"원본 3D 텐서:\")\n",
    "print(f\"shape: {tensor_3d.shape}\")\n",
    "print()\n",
    "\n",
    "# 차원 0과 2를 전치 (batch와 width 교환)\n",
    "tensor_3d_T = tensor_3d.transpose(0, 2)\n",
    "print(\"transpose(0, 2) 후:\")\n",
    "print(f\"shape: {tensor_3d_T.shape}\")"
   ]
  },
  {
   "cell_type": "code",
   "execution_count": null,
   "metadata": {},
   "outputs": [],
   "source": [
    "# permute()를 사용한 더 강력한 축 변환\n",
    "tensor_3d_perm = tensor_3d.permute(2, 1, 0)  # (width, height, batch)\n",
    "print(\"permute(2, 1, 0) 후:\")\n",
    "print(f\"shape: {tensor_3d_perm.shape}\")"
   ]
  },
  {
   "cell_type": "markdown",
   "metadata": {},
   "source": [
    "## 3️⃣ Pandas DataFrame에서 transpose() 사용"
   ]
  },
  {
   "cell_type": "code",
   "execution_count": null,
   "metadata": {},
   "outputs": [],
   "source": [
    "import pandas as pd\n",
    "\n",
    "# DataFrame 생성\n",
    "df = pd.DataFrame({\n",
    "    'A': [1, 2, 3],\n",
    "    'B': [4, 5, 6],\n",
    "    'C': [7, 8, 9]\n",
    "})\n",
    "\n",
    "print(\"원본 DataFrame (3행 3열):\")\n",
    "print(df)\n",
    "print()\n",
    "\n",
    "# 방법 1: .transpose() 메서드\n",
    "df_T = df.transpose()\n",
    "print(\"transpose() 후 (3행 3열):\")\n",
    "print(df_T)"
   ]
  },
  {
   "cell_type": "code",
   "execution_count": null,
   "metadata": {},
   "outputs": [],
   "source": [
    "# 방법 2: .T 속성 (더 간단함)\n",
    "df_T2 = df.T\n",
    "print(\".T를 사용한 결과:\")\n",
    "print(df_T2)\n",
    "print()\n",
    "print(f\"둘이 같은가? {df_T.equals(df_T2)}\")"
   ]
  },
  {
   "cell_type": "markdown",
   "metadata": {},
   "source": [
    "## 📊 실제 예제: 이미지 데이터 전치"
   ]
  },
  {
   "cell_type": "code",
   "execution_count": null,
   "metadata": {},
   "outputs": [],
   "source": [
    "# 예제: 배치된 이미지 데이터 (batch, height, width, channels)\n",
    "images = torch.randn(4, 28, 28, 3)  # 4개 이미지, 28x28 픽셀, RGB\n",
    "\n",
    "print(f\"원본 shape (batch, height, width, channels): {images.shape}\")\n",
    "\n",
    "# height와 width 교환 (이미지 회전 효과)\n",
    "images_rotated = images.transpose(1, 2)\n",
    "print(f\"transpose(1, 2) 후 shape: {images_rotated.shape}\")\n",
    "\n",
    "# 더 복잡한 변환: (batch, channels, height, width) 형식으로 변환\n",
    "images_perm = images.permute(0, 3, 1, 2)\n",
    "print(f\"permute(0, 3, 1, 2) 후 shape: {images_perm.shape}\")"
   ]
  },
  {
   "cell_type": "markdown",
   "metadata": {},
   "source": [
    "## 🎯 핵심 정리\n",
    "\n",
    "| 라이브러리 | 방법 | 설명 |\n",
    "|---------|------|------|\n",
    "| **NumPy** | `.transpose()` | 모든 차원 전치 |\n",
    "| **NumPy** | `.T` | 간편한 전치 (속성) |\n",
    "| **NumPy** | `.transpose(axes)` | 축 순서 지정 |\n",
    "| **PyTorch** | `.transpose(dim0, dim1)` | 두 축만 전치 |\n",
    "| **PyTorch** | `.t()` | 2D 텐서 전용 (간편) |\n",
    "| **PyTorch** | `.permute(axes)` | 모든 축 순서 지정 |\n",
    "| **Pandas** | `.transpose()` | DataFrame 전치 |\n",
    "| **Pandas** | `.T` | DataFrame 전치 (속성) |\n",
    "\n",
    "### 💡 팁\n",
    "- **2D 배열/텐서**: `.T` 또는 `.t()` 사용 (가장 간편)\n",
    "- **3D 이상**: `permute()` (PyTorch) 또는 `transpose(axes)` (NumPy) 사용\n",
    "- **특정 두 축만 전치**: `transpose(dim0, dim1)` 사용"
   ]
  }
 ],
 "metadata": {
  "kernelspec": {
   "display_name": "Python 3",
   "language": "python",
   "name": "python3"
  },
  "language_info": {
   "codemirror_mode": {
    "name": "ipython",
    "version": 3
   },
   "file_extension": ".py",
   "mimetype": "text/x-python",
   "name": "python",
   "nbconvert_exporter": "python",
   "pygments_lexer": "ipython3",
   "version": "3.11.13"
  }
 },
 "nbformat": 4,
 "nbformat_minor": 4
}
